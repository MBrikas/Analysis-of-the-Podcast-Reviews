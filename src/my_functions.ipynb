{
 "cells": [
  {
   "cell_type": "markdown",
   "id": "93aa02c3",
   "metadata": {},
   "source": [
    "Function to load each table into a DataFrame"
   ]
  },
  {
   "cell_type": "code",
   "execution_count": 3,
   "id": "fcd7dc94",
   "metadata": {},
   "outputs": [],
   "source": [
    "# Function to load each table into a DataFrame\n",
    "def load_table(table_name):\n",
    "    query = f\"SELECT * FROM {table_name};\"\n",
    "    return pd.read_sql_query(query, conn)"
   ]
  },
  {
   "cell_type": "code",
   "execution_count": 4,
   "id": "554cb7ed",
   "metadata": {},
   "outputs": [],
   "source": [
    "# Merging categories by first string + grouping spiriuality\n",
    "def simplify_category(category):\n",
    "    religion_spirituality = ['judaism', 'islam', 'buddhism', 'hinduism', 'spirituality', 'christianity', 'religion']\n",
    "    simplified = category.split('-')[0].strip().lower()\n",
    "    return 'religion_spirituality' if simplified in religion_spirituality else simplified"
   ]
  },
  {
   "cell_type": "code",
   "execution_count": null,
   "id": "ea11ee3f",
   "metadata": {},
   "outputs": [],
   "source": []
  }
 ],
 "metadata": {
  "kernelspec": {
   "display_name": "Python 3 (ipykernel)",
   "language": "python",
   "name": "python3"
  },
  "language_info": {
   "codemirror_mode": {
    "name": "ipython",
    "version": 3
   },
   "file_extension": ".py",
   "mimetype": "text/x-python",
   "name": "python",
   "nbconvert_exporter": "python",
   "pygments_lexer": "ipython3",
   "version": "3.11.4"
  }
 },
 "nbformat": 4,
 "nbformat_minor": 5
}
