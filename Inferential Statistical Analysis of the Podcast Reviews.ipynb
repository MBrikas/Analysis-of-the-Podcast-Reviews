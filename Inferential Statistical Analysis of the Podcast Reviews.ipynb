{
 "cells": [
  {
   "cell_type": "markdown",
   "id": "f103cf1f",
   "metadata": {},
   "source": [
    "<img src=\"Firefly Podcast Reviews 94193.jpg\" width=\"450\" height=\"450\">\n",
    "<p style=\"font-family: San Francisco; font-size:2.75em;color:#0056D2; font-style:bold\"> <br>Inferential Statistical Analysis of the Podcast Reviews</p>\n",
    "<br>\n",
    "\n",
    "<a id=\"0\"></a>\n",
    " ### [Table of Contents](0)\n",
    "1. [Project Introduction](#1)      \n",
    "1. [Preparation and Initial Inspection](#2)\n",
    "    1. [Observations](#3) \n",
    "1. [Data Preparation and Cleaning](#4) \n",
    "1. [Exploratory Analysis](#5)     \n",
    "    1. [Podcasts by Rating](#6) \n",
    "    1. [Sentiment Analysis](#7)\n",
    "    1. [Statistical inference](#8)\n",
    "1. [Summary and Suggestions](#12)     \n",
    "    \n",
    "    \n",
    "\n",
    "#### [Notebook by Mažvydas Brikas](https://www.linkedin.com/in/mazvydas-brikas/)      "
   ]
  },
  {
   "cell_type": "markdown",
   "id": "35426341",
   "metadata": {},
   "source": [
    "<a id=\"1\"></a> \n",
    "# 1. Project Introduction\n",
    "\n",
    "The main objective of this project is to analyze the Podcast Reviews Dataset.\n",
    "</p><br>Dataset Information:\n",
    "\n",
    "2 million podcast reviews for 100k podcasts, updated monthly. This dataset is intended to aid in analysis of text feedback and review data.\n",
    "\n",
    "</p><br>Requirements:\n",
    "\n",
    "- Load the data using SQLite and Pandas.\n",
    "- Perform exploratory data analysis. This should include creating statistical summaries and charts, testing for anomalies, checking for correlations and other relations between variables, and other EDA elements.\n",
    "- Perform statistical inference. This should include defining the target population, forming multiple statistical hypotheses and constructing confidence intervals, setting the significance levels, and conducting z or t-tests for these hypotheses.\n",
    "- Create a dashboard using Looker Studio or another BI tool, e.g. Tableau with at least three different types of charts.\n",
    "- Provide clear explanations in your notebook. Your explanations should inform the reader what you are trying to achieve, what results did you get, and what these results mean.\n",
    "- Provide suggestions about how your analysis can be improved.\n",
    " \n",
    "\n",
    "</p><br>Objectives:\n",
    "\n",
    "- Practice working with SQLite datasets.\n",
    "- Practice performing EDA.\n",
    "- Practice applying statistical inference procedures.\n",
    "- Practice visualizing data with Matplotlib & Seaborn.\n",
    "- Practice creating dashboards.\n",
    "- Practice reading data, performing queries, and filtering data using SQL and Pandas.\n",
    " \n",
    "<br>\n",
    "\n",
    "You can download dataset from [Kaggle](https://www.kaggle.com/datasets/thoughtvector/podcastreviews/versions/28).\n",
    "\n",
    "Looker Studio [Podcast Reviews Dashboard](https://lookerstudio.google.com/reporting/d3b50089-c400-4d61-9f94-29c31c4b2fd4)."
   ]
  },
  {
   "cell_type": "markdown",
   "id": "1c7f07c1",
   "metadata": {},
   "source": [
    "<a id=\"2\"></a> \n",
    "# 2. Preparation and Initial Inspection"
   ]
  },
  {
   "cell_type": "code",
   "execution_count": 225,
   "id": "0b8e29d5",
   "metadata": {},
   "outputs": [],
   "source": [
    "import sqlite3\n",
    "import pandas as pd\n",
    "import numpy as np\n",
    "import matplotlib.pyplot as plt\n",
    "import seaborn as sns\n",
    "from scipy.stats import chi2_contingency\n",
    "import geopandas as gpd\n",
    "from shapely.geometry import Point\n",
    "from textblob import TextBlob\n",
    "import plotly.express as px\n",
    "%run my_functions.ipynb\n",
    "from scipy import stats\n",
    "\n",
    "# Connect to the SQLite database\n",
    "conn = sqlite3.connect('database.sqlite')\n",
    "\n",
    "# Load each table\n",
    "runs_df = load_table(\"runs\")\n",
    "podcasts_df = load_table(\"podcasts\")\n",
    "categories_df = load_table(\"categories\")\n",
    "reviews_df = load_table(\"reviews\")\n",
    "\n",
    "# Set the default color palette for Seaborn\n",
    "sns.set_palette('bright')"
   ]
  },
  {
   "cell_type": "markdown",
   "id": "6f2d7a53",
   "metadata": {},
   "source": [
    "<a id=\"3\"></a> \n",
    "## 2.1 Observations"
   ]
  },
  {
   "cell_type": "markdown",
   "id": "23deeaac",
   "metadata": {},
   "source": [
    "Dataset from 5 tables\n",
    "* categories\n",
    "* podcasts\n",
    "* reviews\n",
    "* runs"
   ]
  },
  {
   "cell_type": "code",
   "execution_count": 226,
   "id": "2796d8dd",
   "metadata": {},
   "outputs": [
    {
     "data": {
      "text/html": [
       "<div>\n",
       "<style scoped>\n",
       "    .dataframe tbody tr th:only-of-type {\n",
       "        vertical-align: middle;\n",
       "    }\n",
       "\n",
       "    .dataframe tbody tr th {\n",
       "        vertical-align: top;\n",
       "    }\n",
       "\n",
       "    .dataframe thead th {\n",
       "        text-align: right;\n",
       "    }\n",
       "</style>\n",
       "<table border=\"1\" class=\"dataframe\">\n",
       "  <thead>\n",
       "    <tr style=\"text-align: right;\">\n",
       "      <th></th>\n",
       "      <th>podcast_id</th>\n",
       "      <th>category</th>\n",
       "    </tr>\n",
       "  </thead>\n",
       "  <tbody>\n",
       "    <tr>\n",
       "      <th>0</th>\n",
       "      <td>c61aa81c9b929a66f0c1db6cbe5d8548</td>\n",
       "      <td>arts</td>\n",
       "    </tr>\n",
       "    <tr>\n",
       "      <th>1</th>\n",
       "      <td>c61aa81c9b929a66f0c1db6cbe5d8548</td>\n",
       "      <td>arts-performing-arts</td>\n",
       "    </tr>\n",
       "    <tr>\n",
       "      <th>2</th>\n",
       "      <td>c61aa81c9b929a66f0c1db6cbe5d8548</td>\n",
       "      <td>music</td>\n",
       "    </tr>\n",
       "    <tr>\n",
       "      <th>3</th>\n",
       "      <td>ad4f2bf69c72b8db75978423c25f379e</td>\n",
       "      <td>arts</td>\n",
       "    </tr>\n",
       "    <tr>\n",
       "      <th>4</th>\n",
       "      <td>ad4f2bf69c72b8db75978423c25f379e</td>\n",
       "      <td>arts-design</td>\n",
       "    </tr>\n",
       "  </tbody>\n",
       "</table>\n",
       "</div>"
      ],
      "text/plain": [
       "                         podcast_id              category\n",
       "0  c61aa81c9b929a66f0c1db6cbe5d8548                  arts\n",
       "1  c61aa81c9b929a66f0c1db6cbe5d8548  arts-performing-arts\n",
       "2  c61aa81c9b929a66f0c1db6cbe5d8548                 music\n",
       "3  ad4f2bf69c72b8db75978423c25f379e                  arts\n",
       "4  ad4f2bf69c72b8db75978423c25f379e           arts-design"
      ]
     },
     "execution_count": 226,
     "metadata": {},
     "output_type": "execute_result"
    }
   ],
   "source": [
    "categories_df.head()"
   ]
  },
  {
   "cell_type": "code",
   "execution_count": 227,
   "id": "f51b7775",
   "metadata": {},
   "outputs": [
    {
     "data": {
      "text/html": [
       "<div>\n",
       "<style scoped>\n",
       "    .dataframe tbody tr th:only-of-type {\n",
       "        vertical-align: middle;\n",
       "    }\n",
       "\n",
       "    .dataframe tbody tr th {\n",
       "        vertical-align: top;\n",
       "    }\n",
       "\n",
       "    .dataframe thead th {\n",
       "        text-align: right;\n",
       "    }\n",
       "</style>\n",
       "<table border=\"1\" class=\"dataframe\">\n",
       "  <thead>\n",
       "    <tr style=\"text-align: right;\">\n",
       "      <th></th>\n",
       "      <th>podcast_id</th>\n",
       "      <th>itunes_id</th>\n",
       "      <th>slug</th>\n",
       "      <th>itunes_url</th>\n",
       "      <th>title</th>\n",
       "    </tr>\n",
       "  </thead>\n",
       "  <tbody>\n",
       "    <tr>\n",
       "      <th>0</th>\n",
       "      <td>a00018b54eb342567c94dacfb2a3e504</td>\n",
       "      <td>1313466221</td>\n",
       "      <td>scaling-global</td>\n",
       "      <td>https://podcasts.apple.com/us/podcast/scaling-...</td>\n",
       "      <td>Scaling Global</td>\n",
       "    </tr>\n",
       "    <tr>\n",
       "      <th>1</th>\n",
       "      <td>a00043d34e734b09246d17dc5d56f63c</td>\n",
       "      <td>158973461</td>\n",
       "      <td>cornerstone-baptist-church-of-orlando</td>\n",
       "      <td>https://podcasts.apple.com/us/podcast/cornerst...</td>\n",
       "      <td>Cornerstone Baptist Church of Orlando</td>\n",
       "    </tr>\n",
       "    <tr>\n",
       "      <th>2</th>\n",
       "      <td>a0004b1ef445af9dc84dad1e7821b1e3</td>\n",
       "      <td>139076942</td>\n",
       "      <td>mystery-dancing-in-the-dark</td>\n",
       "      <td>https://podcasts.apple.com/us/podcast/mystery-...</td>\n",
       "      <td>Mystery: Dancing in the Dark</td>\n",
       "    </tr>\n",
       "    <tr>\n",
       "      <th>3</th>\n",
       "      <td>a00071f9aaae9ac725c3a586701abf4d</td>\n",
       "      <td>1332508972</td>\n",
       "      <td>kts-money-matters</td>\n",
       "      <td>https://podcasts.apple.com/us/podcast/kts-mone...</td>\n",
       "      <td>KTs Money Matters</td>\n",
       "    </tr>\n",
       "    <tr>\n",
       "      <th>4</th>\n",
       "      <td>a000a500f06555f81220c3eb641aded7</td>\n",
       "      <td>1544900779</td>\n",
       "      <td>word-on-the-street-w-dreak-swift</td>\n",
       "      <td>https://podcasts.apple.com/us/podcast/word-on-...</td>\n",
       "      <td>Word on the Street w/ Dreak Swift</td>\n",
       "    </tr>\n",
       "  </tbody>\n",
       "</table>\n",
       "</div>"
      ],
      "text/plain": [
       "                         podcast_id   itunes_id  \\\n",
       "0  a00018b54eb342567c94dacfb2a3e504  1313466221   \n",
       "1  a00043d34e734b09246d17dc5d56f63c   158973461   \n",
       "2  a0004b1ef445af9dc84dad1e7821b1e3   139076942   \n",
       "3  a00071f9aaae9ac725c3a586701abf4d  1332508972   \n",
       "4  a000a500f06555f81220c3eb641aded7  1544900779   \n",
       "\n",
       "                                    slug  \\\n",
       "0                         scaling-global   \n",
       "1  cornerstone-baptist-church-of-orlando   \n",
       "2            mystery-dancing-in-the-dark   \n",
       "3                      kts-money-matters   \n",
       "4       word-on-the-street-w-dreak-swift   \n",
       "\n",
       "                                          itunes_url  \\\n",
       "0  https://podcasts.apple.com/us/podcast/scaling-...   \n",
       "1  https://podcasts.apple.com/us/podcast/cornerst...   \n",
       "2  https://podcasts.apple.com/us/podcast/mystery-...   \n",
       "3  https://podcasts.apple.com/us/podcast/kts-mone...   \n",
       "4  https://podcasts.apple.com/us/podcast/word-on-...   \n",
       "\n",
       "                                   title  \n",
       "0                         Scaling Global  \n",
       "1  Cornerstone Baptist Church of Orlando  \n",
       "2           Mystery: Dancing in the Dark  \n",
       "3                      KTs Money Matters  \n",
       "4      Word on the Street w/ Dreak Swift  "
      ]
     },
     "execution_count": 227,
     "metadata": {},
     "output_type": "execute_result"
    }
   ],
   "source": [
    "podcasts_df.head()"
   ]
  },
  {
   "cell_type": "code",
   "execution_count": 228,
   "id": "acde7ef7",
   "metadata": {},
   "outputs": [
    {
     "data": {
      "text/html": [
       "<div>\n",
       "<style scoped>\n",
       "    .dataframe tbody tr th:only-of-type {\n",
       "        vertical-align: middle;\n",
       "    }\n",
       "\n",
       "    .dataframe tbody tr th {\n",
       "        vertical-align: top;\n",
       "    }\n",
       "\n",
       "    .dataframe thead th {\n",
       "        text-align: right;\n",
       "    }\n",
       "</style>\n",
       "<table border=\"1\" class=\"dataframe\">\n",
       "  <thead>\n",
       "    <tr style=\"text-align: right;\">\n",
       "      <th></th>\n",
       "      <th>podcast_id</th>\n",
       "      <th>title</th>\n",
       "      <th>content</th>\n",
       "      <th>rating</th>\n",
       "      <th>author_id</th>\n",
       "      <th>created_at</th>\n",
       "    </tr>\n",
       "  </thead>\n",
       "  <tbody>\n",
       "    <tr>\n",
       "      <th>0</th>\n",
       "      <td>c61aa81c9b929a66f0c1db6cbe5d8548</td>\n",
       "      <td>really interesting!</td>\n",
       "      <td>Thanks for providing these insights.  Really e...</td>\n",
       "      <td>5</td>\n",
       "      <td>F7E5A318989779D</td>\n",
       "      <td>2018-04-24T12:05:16-07:00</td>\n",
       "    </tr>\n",
       "    <tr>\n",
       "      <th>1</th>\n",
       "      <td>c61aa81c9b929a66f0c1db6cbe5d8548</td>\n",
       "      <td>Must listen for anyone interested in the arts!!!</td>\n",
       "      <td>Super excited to see this podcast grow. So man...</td>\n",
       "      <td>5</td>\n",
       "      <td>F6BF5472689BD12</td>\n",
       "      <td>2018-05-09T18:14:32-07:00</td>\n",
       "    </tr>\n",
       "    <tr>\n",
       "      <th>2</th>\n",
       "      <td>ad4f2bf69c72b8db75978423c25f379e</td>\n",
       "      <td>nauseatingly left</td>\n",
       "      <td>I'm a liberal myself, but its pretty obvious a...</td>\n",
       "      <td>1</td>\n",
       "      <td>1AB95B8E6E1309E</td>\n",
       "      <td>2019-06-11T14:53:39-07:00</td>\n",
       "    </tr>\n",
       "    <tr>\n",
       "      <th>3</th>\n",
       "      <td>ad4f2bf69c72b8db75978423c25f379e</td>\n",
       "      <td>Diverse stories</td>\n",
       "      <td>I find Tedx talks very inspirational but I oft...</td>\n",
       "      <td>5</td>\n",
       "      <td>11BB760AA5DEBD1</td>\n",
       "      <td>2018-05-31T13:08:09-07:00</td>\n",
       "    </tr>\n",
       "    <tr>\n",
       "      <th>4</th>\n",
       "      <td>ad4f2bf69c72b8db75978423c25f379e</td>\n",
       "      <td>👍👍👍👍</td>\n",
       "      <td>I love this podcast, it is so good.</td>\n",
       "      <td>5</td>\n",
       "      <td>D86032C8E57D15A</td>\n",
       "      <td>2019-06-19T13:56:05-07:00</td>\n",
       "    </tr>\n",
       "  </tbody>\n",
       "</table>\n",
       "</div>"
      ],
      "text/plain": [
       "                         podcast_id  \\\n",
       "0  c61aa81c9b929a66f0c1db6cbe5d8548   \n",
       "1  c61aa81c9b929a66f0c1db6cbe5d8548   \n",
       "2  ad4f2bf69c72b8db75978423c25f379e   \n",
       "3  ad4f2bf69c72b8db75978423c25f379e   \n",
       "4  ad4f2bf69c72b8db75978423c25f379e   \n",
       "\n",
       "                                              title  \\\n",
       "0                               really interesting!   \n",
       "1  Must listen for anyone interested in the arts!!!   \n",
       "2                                 nauseatingly left   \n",
       "3                                   Diverse stories   \n",
       "4                                              👍👍👍👍   \n",
       "\n",
       "                                             content  rating        author_id  \\\n",
       "0  Thanks for providing these insights.  Really e...       5  F7E5A318989779D   \n",
       "1  Super excited to see this podcast grow. So man...       5  F6BF5472689BD12   \n",
       "2  I'm a liberal myself, but its pretty obvious a...       1  1AB95B8E6E1309E   \n",
       "3  I find Tedx talks very inspirational but I oft...       5  11BB760AA5DEBD1   \n",
       "4                I love this podcast, it is so good.       5  D86032C8E57D15A   \n",
       "\n",
       "                  created_at  \n",
       "0  2018-04-24T12:05:16-07:00  \n",
       "1  2018-05-09T18:14:32-07:00  \n",
       "2  2019-06-11T14:53:39-07:00  \n",
       "3  2018-05-31T13:08:09-07:00  \n",
       "4  2019-06-19T13:56:05-07:00  "
      ]
     },
     "execution_count": 228,
     "metadata": {},
     "output_type": "execute_result"
    }
   ],
   "source": [
    "reviews_df.head()"
   ]
  },
  {
   "cell_type": "code",
   "execution_count": 229,
   "id": "0559b946",
   "metadata": {},
   "outputs": [
    {
     "data": {
      "text/html": [
       "<div>\n",
       "<style scoped>\n",
       "    .dataframe tbody tr th:only-of-type {\n",
       "        vertical-align: middle;\n",
       "    }\n",
       "\n",
       "    .dataframe tbody tr th {\n",
       "        vertical-align: top;\n",
       "    }\n",
       "\n",
       "    .dataframe thead th {\n",
       "        text-align: right;\n",
       "    }\n",
       "</style>\n",
       "<table border=\"1\" class=\"dataframe\">\n",
       "  <thead>\n",
       "    <tr style=\"text-align: right;\">\n",
       "      <th></th>\n",
       "      <th>run_at</th>\n",
       "      <th>max_rowid</th>\n",
       "      <th>reviews_added</th>\n",
       "    </tr>\n",
       "  </thead>\n",
       "  <tbody>\n",
       "    <tr>\n",
       "      <th>0</th>\n",
       "      <td>2021-05-10 02:53:00</td>\n",
       "      <td>3266481</td>\n",
       "      <td>1215223</td>\n",
       "    </tr>\n",
       "    <tr>\n",
       "      <th>1</th>\n",
       "      <td>2021-06-06 21:34:36</td>\n",
       "      <td>3300773</td>\n",
       "      <td>13139</td>\n",
       "    </tr>\n",
       "    <tr>\n",
       "      <th>2</th>\n",
       "      <td>2021-07-02 18:04:55</td>\n",
       "      <td>3329699</td>\n",
       "      <td>11561</td>\n",
       "    </tr>\n",
       "    <tr>\n",
       "      <th>3</th>\n",
       "      <td>2021-08-01 17:54:42</td>\n",
       "      <td>3360315</td>\n",
       "      <td>11855</td>\n",
       "    </tr>\n",
       "    <tr>\n",
       "      <th>4</th>\n",
       "      <td>2021-09-02 18:00:30</td>\n",
       "      <td>3390165</td>\n",
       "      <td>11714</td>\n",
       "    </tr>\n",
       "  </tbody>\n",
       "</table>\n",
       "</div>"
      ],
      "text/plain": [
       "                run_at  max_rowid  reviews_added\n",
       "0  2021-05-10 02:53:00    3266481        1215223\n",
       "1  2021-06-06 21:34:36    3300773          13139\n",
       "2  2021-07-02 18:04:55    3329699          11561\n",
       "3  2021-08-01 17:54:42    3360315          11855\n",
       "4  2021-09-02 18:00:30    3390165          11714"
      ]
     },
     "execution_count": 229,
     "metadata": {},
     "output_type": "execute_result"
    }
   ],
   "source": [
    "runs_df.head()"
   ]
  },
  {
   "cell_type": "markdown",
   "id": "a10d4164",
   "metadata": {},
   "source": [
    "* categories = podcast_id |\tcategory \n",
    "* podcasts = podcast_id | itunes_id | slug | itunes_url | title \n",
    "* reviews = podcast_id | title | content | rating |\tauthor_id |\tcreated_at\n",
    "* runs = run_at | max_rowid | reviews_added"
   ]
  },
  {
   "cell_type": "code",
   "execution_count": 230,
   "id": "be529de6",
   "metadata": {},
   "outputs": [
    {
     "name": "stdout",
     "output_type": "stream",
     "text": [
      "Shape of the DataFrame: (2067529, 6)\n",
      "Missing values in each column:\n",
      "podcast_id    0\n",
      "title         0\n",
      "content       0\n",
      "rating        0\n",
      "author_id     0\n",
      "created_at    0\n",
      "dtype: int64\n",
      "Descriptive Statistics:\n",
      "                              podcast_id          title               content  \\\n",
      "count                            2067529        2067529               2067529   \n",
      "unique                            111544        1138688               2049707   \n",
      "top     bf5bf76d5b6ffbf9a31bba4480383b7f  Great podcast  I love this podcast!   \n",
      "freq                               33104          14236                   179   \n",
      "mean                                 NaN            NaN                   NaN   \n",
      "std                                  NaN            NaN                   NaN   \n",
      "min                                  NaN            NaN                   NaN   \n",
      "25%                                  NaN            NaN                   NaN   \n",
      "50%                                  NaN            NaN                   NaN   \n",
      "75%                                  NaN            NaN                   NaN   \n",
      "max                                  NaN            NaN                   NaN   \n",
      "\n",
      "              rating        author_id                 created_at  \n",
      "count   2.067529e+06          2067529                    2067529  \n",
      "unique           NaN          1475285                    2054352  \n",
      "top              NaN  791F376ACA3C08D  2020-09-23T16:51:36-07:00  \n",
      "freq             NaN              615                          6  \n",
      "mean    4.627081e+00              NaN                        NaN  \n",
      "std     1.045882e+00              NaN                        NaN  \n",
      "min     1.000000e+00              NaN                        NaN  \n",
      "25%     5.000000e+00              NaN                        NaN  \n",
      "50%     5.000000e+00              NaN                        NaN  \n",
      "75%     5.000000e+00              NaN                        NaN  \n",
      "max     5.000000e+00              NaN                        NaN  \n"
     ]
    }
   ],
   "source": [
    "# Data Overview, Missing Values, and Descriptive Statistics\n",
    "print(\"Shape of the DataFrame:\", reviews_df.shape)\n",
    "print(\"Missing values in each column:\")\n",
    "print(reviews_df.isnull().sum())\n",
    "print(\"Descriptive Statistics:\")\n",
    "print(reviews_df.describe(include='all'))"
   ]
  },
  {
   "cell_type": "markdown",
   "id": "0da9454e",
   "metadata": {},
   "source": [
    "<a id=\"4\"></a> \n",
    "# 3. Data preparation and cleaning\n",
    "Feature corrections, merges, duplicates."
   ]
  },
  {
   "cell_type": "code",
   "execution_count": 231,
   "id": "0be6b951",
   "metadata": {},
   "outputs": [],
   "source": [
    "# Renaming 'title' column in podcasts_df to 'podcast_name'\n",
    "podcasts_df.rename(columns={'title': 'podcast_name'}, inplace=True)\n",
    "\n",
    "# Merging the reviews and podcasts dataframes on podcast_id\n",
    "merged_df = pd.merge(reviews_df, podcasts_df, on='podcast_id')\n",
    "\n",
    "# Merging religion/spirituality categories\n",
    "categories_df['simplified_category'] = categories_df['category'].apply(simplify_category)\n",
    "\n",
    "# Merging merged (podcast and reviews) with ctegories df on \"podcast_id\"\n",
    "merged_df = pd.merge(merged_df, categories_df, on='podcast_id')\n",
    "\n",
    "# Removing duplicates\n",
    "merged_df = merged_df.drop_duplicates(subset='title', keep='first')"
   ]
  },
  {
   "cell_type": "markdown",
   "id": "c99a239d",
   "metadata": {},
   "source": [
    "Sentiment analysis:\n",
    "\n",
    "Calculating the sentiment polarity of each review text using TextBlob's sentiment analysis capabilities and storing the result in a new column named 'sentiment'. This allows to analyze and visualize the sentiment distribution of the review content."
   ]
  },
  {
   "cell_type": "code",
   "execution_count": 232,
   "id": "98178be6",
   "metadata": {},
   "outputs": [],
   "source": [
    "# Performing Sentiment Analysis on review content\n",
    "merged_df['sentiment'] = merged_df['content'].apply(lambda x: TextBlob(str(x)).sentiment.polarity)"
   ]
  },
  {
   "cell_type": "code",
   "execution_count": 233,
   "id": "9f80440b",
   "metadata": {},
   "outputs": [
    {
     "data": {
      "text/html": [
       "<div>\n",
       "<style scoped>\n",
       "    .dataframe tbody tr th:only-of-type {\n",
       "        vertical-align: middle;\n",
       "    }\n",
       "\n",
       "    .dataframe tbody tr th {\n",
       "        vertical-align: top;\n",
       "    }\n",
       "\n",
       "    .dataframe thead th {\n",
       "        text-align: right;\n",
       "    }\n",
       "</style>\n",
       "<table border=\"1\" class=\"dataframe\">\n",
       "  <thead>\n",
       "    <tr style=\"text-align: right;\">\n",
       "      <th></th>\n",
       "      <th>podcast_id</th>\n",
       "      <th>title</th>\n",
       "      <th>content</th>\n",
       "      <th>rating</th>\n",
       "      <th>author_id</th>\n",
       "      <th>created_at</th>\n",
       "      <th>itunes_id</th>\n",
       "      <th>slug</th>\n",
       "      <th>itunes_url</th>\n",
       "      <th>podcast_name</th>\n",
       "      <th>category</th>\n",
       "      <th>simplified_category</th>\n",
       "      <th>sentiment</th>\n",
       "    </tr>\n",
       "  </thead>\n",
       "  <tbody>\n",
       "    <tr>\n",
       "      <th>0</th>\n",
       "      <td>c61aa81c9b929a66f0c1db6cbe5d8548</td>\n",
       "      <td>really interesting!</td>\n",
       "      <td>Thanks for providing these insights.  Really e...</td>\n",
       "      <td>5</td>\n",
       "      <td>F7E5A318989779D</td>\n",
       "      <td>2018-04-24T12:05:16-07:00</td>\n",
       "      <td>1373261997</td>\n",
       "      <td>backstage-at-tilles-center</td>\n",
       "      <td>https://podcasts.apple.com/us/podcast/backstag...</td>\n",
       "      <td>Backstage at Tilles Center</td>\n",
       "      <td>arts</td>\n",
       "      <td>arts</td>\n",
       "      <td>0.350000</td>\n",
       "    </tr>\n",
       "    <tr>\n",
       "      <th>3</th>\n",
       "      <td>c61aa81c9b929a66f0c1db6cbe5d8548</td>\n",
       "      <td>Must listen for anyone interested in the arts!!!</td>\n",
       "      <td>Super excited to see this podcast grow. So man...</td>\n",
       "      <td>5</td>\n",
       "      <td>F6BF5472689BD12</td>\n",
       "      <td>2018-05-09T18:14:32-07:00</td>\n",
       "      <td>1373261997</td>\n",
       "      <td>backstage-at-tilles-center</td>\n",
       "      <td>https://podcasts.apple.com/us/podcast/backstag...</td>\n",
       "      <td>Backstage at Tilles Center</td>\n",
       "      <td>arts</td>\n",
       "      <td>arts</td>\n",
       "      <td>0.328423</td>\n",
       "    </tr>\n",
       "    <tr>\n",
       "      <th>6</th>\n",
       "      <td>ad4f2bf69c72b8db75978423c25f379e</td>\n",
       "      <td>nauseatingly left</td>\n",
       "      <td>I'm a liberal myself, but its pretty obvious a...</td>\n",
       "      <td>1</td>\n",
       "      <td>1AB95B8E6E1309E</td>\n",
       "      <td>2019-06-11T14:53:39-07:00</td>\n",
       "      <td>160904630</td>\n",
       "      <td>ted-talks-daily</td>\n",
       "      <td>https://podcasts.apple.com/us/podcast/ted-talk...</td>\n",
       "      <td>TED Talks Daily</td>\n",
       "      <td>arts</td>\n",
       "      <td>arts</td>\n",
       "      <td>-0.008333</td>\n",
       "    </tr>\n",
       "    <tr>\n",
       "      <th>10</th>\n",
       "      <td>ad4f2bf69c72b8db75978423c25f379e</td>\n",
       "      <td>Diverse stories</td>\n",
       "      <td>I find Tedx talks very inspirational but I oft...</td>\n",
       "      <td>5</td>\n",
       "      <td>11BB760AA5DEBD1</td>\n",
       "      <td>2018-05-31T13:08:09-07:00</td>\n",
       "      <td>160904630</td>\n",
       "      <td>ted-talks-daily</td>\n",
       "      <td>https://podcasts.apple.com/us/podcast/ted-talk...</td>\n",
       "      <td>TED Talks Daily</td>\n",
       "      <td>arts</td>\n",
       "      <td>arts</td>\n",
       "      <td>0.527778</td>\n",
       "    </tr>\n",
       "    <tr>\n",
       "      <th>14</th>\n",
       "      <td>ad4f2bf69c72b8db75978423c25f379e</td>\n",
       "      <td>👍👍👍👍</td>\n",
       "      <td>I love this podcast, it is so good.</td>\n",
       "      <td>5</td>\n",
       "      <td>D86032C8E57D15A</td>\n",
       "      <td>2019-06-19T13:56:05-07:00</td>\n",
       "      <td>160904630</td>\n",
       "      <td>ted-talks-daily</td>\n",
       "      <td>https://podcasts.apple.com/us/podcast/ted-talk...</td>\n",
       "      <td>TED Talks Daily</td>\n",
       "      <td>arts</td>\n",
       "      <td>arts</td>\n",
       "      <td>0.600000</td>\n",
       "    </tr>\n",
       "  </tbody>\n",
       "</table>\n",
       "</div>"
      ],
      "text/plain": [
       "                          podcast_id  \\\n",
       "0   c61aa81c9b929a66f0c1db6cbe5d8548   \n",
       "3   c61aa81c9b929a66f0c1db6cbe5d8548   \n",
       "6   ad4f2bf69c72b8db75978423c25f379e   \n",
       "10  ad4f2bf69c72b8db75978423c25f379e   \n",
       "14  ad4f2bf69c72b8db75978423c25f379e   \n",
       "\n",
       "                                               title  \\\n",
       "0                                really interesting!   \n",
       "3   Must listen for anyone interested in the arts!!!   \n",
       "6                                  nauseatingly left   \n",
       "10                                   Diverse stories   \n",
       "14                                              👍👍👍👍   \n",
       "\n",
       "                                              content  rating  \\\n",
       "0   Thanks for providing these insights.  Really e...       5   \n",
       "3   Super excited to see this podcast grow. So man...       5   \n",
       "6   I'm a liberal myself, but its pretty obvious a...       1   \n",
       "10  I find Tedx talks very inspirational but I oft...       5   \n",
       "14                I love this podcast, it is so good.       5   \n",
       "\n",
       "          author_id                 created_at   itunes_id  \\\n",
       "0   F7E5A318989779D  2018-04-24T12:05:16-07:00  1373261997   \n",
       "3   F6BF5472689BD12  2018-05-09T18:14:32-07:00  1373261997   \n",
       "6   1AB95B8E6E1309E  2019-06-11T14:53:39-07:00   160904630   \n",
       "10  11BB760AA5DEBD1  2018-05-31T13:08:09-07:00   160904630   \n",
       "14  D86032C8E57D15A  2019-06-19T13:56:05-07:00   160904630   \n",
       "\n",
       "                          slug  \\\n",
       "0   backstage-at-tilles-center   \n",
       "3   backstage-at-tilles-center   \n",
       "6              ted-talks-daily   \n",
       "10             ted-talks-daily   \n",
       "14             ted-talks-daily   \n",
       "\n",
       "                                           itunes_url  \\\n",
       "0   https://podcasts.apple.com/us/podcast/backstag...   \n",
       "3   https://podcasts.apple.com/us/podcast/backstag...   \n",
       "6   https://podcasts.apple.com/us/podcast/ted-talk...   \n",
       "10  https://podcasts.apple.com/us/podcast/ted-talk...   \n",
       "14  https://podcasts.apple.com/us/podcast/ted-talk...   \n",
       "\n",
       "                  podcast_name category simplified_category  sentiment  \n",
       "0   Backstage at Tilles Center     arts                arts   0.350000  \n",
       "3   Backstage at Tilles Center     arts                arts   0.328423  \n",
       "6              TED Talks Daily     arts                arts  -0.008333  \n",
       "10             TED Talks Daily     arts                arts   0.527778  \n",
       "14             TED Talks Daily     arts                arts   0.600000  "
      ]
     },
     "execution_count": 233,
     "metadata": {},
     "output_type": "execute_result"
    }
   ],
   "source": [
    "merged_df.head(5)"
   ]
  },
  {
   "cell_type": "code",
   "execution_count": 234,
   "id": "f0ad0438",
   "metadata": {},
   "outputs": [
    {
     "name": "stdout",
     "output_type": "stream",
     "text": [
      "Shape of the DataFrame: (1125831, 13)\n",
      "Missing values in each column:\n",
      "podcast_id             0\n",
      "title                  0\n",
      "content                0\n",
      "rating                 0\n",
      "author_id              0\n",
      "created_at             0\n",
      "itunes_id              0\n",
      "slug                   0\n",
      "itunes_url             0\n",
      "podcast_name           0\n",
      "category               0\n",
      "simplified_category    0\n",
      "sentiment              0\n",
      "dtype: int64\n",
      "Descriptive Statistics:\n",
      "                              podcast_id                title  \\\n",
      "count                            1125831              1125831   \n",
      "unique                             86817              1125831   \n",
      "top     bf5bf76d5b6ffbf9a31bba4480383b7f  really interesting!   \n",
      "freq                               13241                    1   \n",
      "mean                                 NaN                  NaN   \n",
      "std                                  NaN                  NaN   \n",
      "min                                  NaN                  NaN   \n",
      "25%                                  NaN                  NaN   \n",
      "50%                                  NaN                  NaN   \n",
      "75%                                  NaN                  NaN   \n",
      "max                                  NaN                  NaN   \n",
      "\n",
      "                             content        rating        author_id  \\\n",
      "count                        1125831  1.125831e+06          1125831   \n",
      "unique                       1122820           NaN           877135   \n",
      "top     40 dingers or bust this year           NaN  8EA31F030185A88   \n",
      "freq                              53           NaN              197   \n",
      "mean                             NaN  4.558585e+00              NaN   \n",
      "std                              NaN  1.121304e+00              NaN   \n",
      "min                              NaN  1.000000e+00              NaN   \n",
      "25%                              NaN  5.000000e+00              NaN   \n",
      "50%                              NaN  5.000000e+00              NaN   \n",
      "75%                              NaN  5.000000e+00              NaN   \n",
      "max                              NaN  5.000000e+00              NaN   \n",
      "\n",
      "                       created_at     itunes_id          slug  \\\n",
      "count                     1125831  1.125831e+06       1125831   \n",
      "unique                    1122233           NaN         86178   \n",
      "top     2020-06-09T18:49:03-07:00           NaN  crime-junkie   \n",
      "freq                            3           NaN         13241   \n",
      "mean                          NaN  1.168319e+09           NaN   \n",
      "std                           NaN  3.974799e+08           NaN   \n",
      "min                           NaN  7.332927e+07           NaN   \n",
      "25%                           NaN  1.021444e+09           NaN   \n",
      "50%                           NaN  1.288274e+09           NaN   \n",
      "75%                           NaN  1.474245e+09           NaN   \n",
      "max                           NaN  1.665764e+09           NaN   \n",
      "\n",
      "                                               itunes_url  podcast_name  \\\n",
      "count                                             1125831       1125831   \n",
      "unique                                              86817         86384   \n",
      "top     https://podcasts.apple.com/us/podcast/crime-ju...  Crime Junkie   \n",
      "freq                                                13241         13241   \n",
      "mean                                                  NaN           NaN   \n",
      "std                                                   NaN           NaN   \n",
      "min                                                   NaN           NaN   \n",
      "25%                                                   NaN           NaN   \n",
      "50%                                                   NaN           NaN   \n",
      "75%                                                   NaN           NaN   \n",
      "max                                                   NaN           NaN   \n",
      "\n",
      "       category simplified_category     sentiment  \n",
      "count   1125831             1125831  1.125831e+06  \n",
      "unique      110                  19           NaN  \n",
      "top      comedy              comedy           NaN  \n",
      "freq     182357              185222           NaN  \n",
      "mean        NaN                 NaN  2.842293e-01  \n",
      "std         NaN                 NaN  2.605836e-01  \n",
      "min         NaN                 NaN -1.000000e+00  \n",
      "25%         NaN                 NaN  1.227273e-01  \n",
      "50%         NaN                 NaN  2.812500e-01  \n",
      "75%         NaN                 NaN  4.375000e-01  \n",
      "max         NaN                 NaN  1.000000e+00  \n"
     ]
    }
   ],
   "source": [
    "# Data Overview, Missing Values, and Descriptive Statistics\n",
    "print(\"Shape of the DataFrame:\", merged_df.shape)\n",
    "print(\"Missing values in each column:\")\n",
    "print(merged_df.isnull().sum())\n",
    "print(\"Descriptive Statistics:\")\n",
    "print(merged_df.describe(include='all'))"
   ]
  },
  {
   "cell_type": "markdown",
   "id": "5ffbae6a",
   "metadata": {},
   "source": [
    "CSV export for GDS Dashboard:\n",
    "\n",
    "Used this data frame for looker studio dashboard."
   ]
  },
  {
   "cell_type": "code",
   "execution_count": null,
   "id": "0fe0092b",
   "metadata": {},
   "outputs": [],
   "source": [
    "# Main dataframe for GDS\n",
    "export_df = merged_df.drop(columns=['title', 'content','author_id','created_at','itunes_id','itunes_url','podcast_name', 'category' ])\n",
    "export_df.to_csv('merged_df10.csv', index=False)"
   ]
  },
  {
   "cell_type": "markdown",
   "id": "8be23e59",
   "metadata": {},
   "source": [
    "<a id=\"5\"></a> \n",
    "# 4. Exploratory Analysis"
   ]
  },
  {
   "cell_type": "markdown",
   "id": "6c8464af",
   "metadata": {},
   "source": [
    "<a id=\"6\"></a> \n",
    "## 4.1  Podcasts by Rating"
   ]
  },
  {
   "cell_type": "code",
   "execution_count": 235,
   "id": "f2cd4f15",
   "metadata": {},
   "outputs": [
    {
     "name": "stdout",
     "output_type": "stream",
     "text": [
      "count    1.125831e+06\n",
      "mean     4.558585e+00\n",
      "std      1.121304e+00\n",
      "min      1.000000e+00\n",
      "25%      5.000000e+00\n",
      "50%      5.000000e+00\n",
      "75%      5.000000e+00\n",
      "max      5.000000e+00\n",
      "Name: rating, dtype: float64\n"
     ]
    }
   ],
   "source": [
    "print(merged_df['rating'].describe())"
   ]
  },
  {
   "cell_type": "markdown",
   "id": "d8b7f325",
   "metadata": {},
   "source": [
    "* Mean (Average): The average rating is approximately 4.56 on a scale from 1 to 5. This high average suggests that listeners generally rate podcasts favorably.\n",
    "\n",
    "* Standard Deviation: The standard deviation is about 1.12, which indicates some variability in the ratings. However, given the scale of ratings (1 to 5), this level of variation is relatively moderate, suggesting that while there are differing opinions, a consensus towards higher ratings exists.\n",
    "\n",
    "* Min: The minimum rating is 1, indicating that there are some highly negative reviews. Despite the overall high average rating, this shows that not all feedback is positive.\n",
    "\n",
    "* 25th Percentile (Q1): 75% of the ratings are at the maximum of 5, and the 25th percentile is also 5. This indicates a significant concentration of high ratings and suggests that a vast majority of reviewers rate podcasts very positively.\n",
    "\n",
    "* 50th Percentile (Median): The median rating is 5, reinforcing the observation that the majority of reviews are very positive. Given that the median is at the maximum rating, it's clear that more than half of the ratings are at this level."
   ]
  },
  {
   "cell_type": "code",
   "execution_count": 236,
   "id": "8354e637",
   "metadata": {},
   "outputs": [
    {
     "data": {
      "image/png": "[encoded data removed]",
      "text/plain": [
       "<Figure size 1000x600 with 1 Axes>"
      ]
     },
     "metadata": {},
     "output_type": "display_data"
    }
   ],
   "source": [
    "# Visualization of Ratings Distribution\n",
    "plt.figure(figsize=(10, 6))\n",
    "sns.histplot(merged_df['rating'], bins=4, kde=True, color='skyblue')\n",
    "plt.title('Distribution of Ratings')\n",
    "plt.xlabel('Rating')\n",
    "plt.ylabel('Frequency')\n",
    "plt.show()"
   ]
  },
  {
   "cell_type": "markdown",
   "id": "8968e2d3",
   "metadata": {},
   "source": [
    "* Most of the ratings are between 4.5 and 5"
   ]
  },
  {
   "cell_type": "code",
   "execution_count": 239,
   "id": "2764765b",
   "metadata": {},
   "outputs": [
    {
     "data": {
      "image/png": "[encoded data removed]",
      "text/plain": [
       "<Figure size 1000x600 with 1 Axes>"
      ]
     },
     "metadata": {},
     "output_type": "display_data"
    },
    {
     "name": "stdout",
     "output_type": "stream",
     "text": [
      "      simplified_category    rating\n",
      "1                business  4.804362\n",
      "12  religion_spirituality  4.770935\n",
      "6                  health  4.766493\n",
      "3               education  4.762747\n",
      "10                  music  4.732568\n",
      "9                 leisure  4.699649\n",
      "0                    arts  4.684487\n",
      "8                    kids  4.644778\n",
      "2                  comedy  4.574662\n",
      "15                 sports  4.540267\n",
      "18                     tv  4.507451\n",
      "16             technology  4.471461\n",
      "4                 fiction  4.456168\n",
      "14                society  4.319005\n",
      "7                 history  4.303256\n",
      "5              government  4.266760\n",
      "13                science  4.264628\n",
      "11                   news  4.123081\n",
      "17                   true  3.965490\n"
     ]
    }
   ],
   "source": [
    "# Group by simplified_category and calculate the average rating\n",
    "category_ratings = merged_df.groupby('simplified_category')['rating'].mean().reset_index()\n",
    "\n",
    "# Sort the categories by average rating and select the top 20\n",
    "top_categories = category_ratings.sort_values(by='rating', ascending=False).head(20)\n",
    "\n",
    "# Visualization\n",
    "plt.figure(figsize=(10,6))\n",
    "sns.barplot(x='rating', y='simplified_category', data=top_categories, palette='viridis')\n",
    "plt.title('Top 20 Podcast Categories by Average Rating')\n",
    "plt.xlabel('Average Rating')\n",
    "plt.ylabel('Category')\n",
    "plt.show()\n",
    "\n",
    "print(top_categories)"
   ]
  },
  {
   "cell_type": "markdown",
   "id": "ce6f5b00",
   "metadata": {},
   "source": [
    "#### Highest rated categories are:\n",
    "* Business\n",
    "* Religion/spirituality \n",
    "* Health"
   ]
  },
  {
   "cell_type": "code",
   "execution_count": 240,
   "id": "7cf90cf1",
   "metadata": {},
   "outputs": [
    {
     "data": {
      "text/plain": [
       "Text(0.5, 1.0, 'Number of Ratings for Top 20 Podcast Categories')"
      ]
     },
     "execution_count": 240,
     "metadata": {},
     "output_type": "execute_result"
    },
    {
     "data": {
      "image/png": "[encoded data removed]",
      "text/plain": [
       "<Figure size 1200x800 with 1 Axes>"
      ]
     },
     "metadata": {},
     "output_type": "display_data"
    }
   ],
   "source": [
    "category_ratings = merged_df.groupby('simplified_category').agg(\n",
    "    average_rating=pd.NamedAgg(column='rating', aggfunc='mean'),\n",
    "    rating_count=pd.NamedAgg(column='rating', aggfunc='count')\n",
    ").reset_index()\n",
    "threshold = 50  # Minimum number of ratings to consider\n",
    "top_categories = category_ratings[category_ratings['rating_count'] > threshold].sort_values(by='average_rating', ascending=False).head(20)\n",
    "\n",
    "# Visualization of Rating Counts (sorted ascendingly)\n",
    "top_categories_sorted_by_rating_count = top_categories.sort_values(by='rating_count', ascending=True)\n",
    "plt.figure(figsize=(12, 8))\n",
    "sns.barplot(x='rating_count', y='simplified_category', data=top_categories_sorted_by_rating_count, palette='viridis')\n",
    "plt.title('Number of Ratings for Top 20 Podcast Categories')"
   ]
  },
  {
   "cell_type": "markdown",
   "id": "d89e3181",
   "metadata": {},
   "source": [
    "#### Most rated categories are:\n",
    "* Comedy\n",
    "* Business\n",
    "* Society"
   ]
  },
  {
   "cell_type": "code",
   "execution_count": 241,
   "id": "6bf3753c",
   "metadata": {},
   "outputs": [
    {
     "name": "stdout",
     "output_type": "stream",
     "text": [
      "      simplified_category  rating\n",
      "2                  comedy  185222\n",
      "1                business  127736\n",
      "14                society  108528\n",
      "0                    arts   89708\n",
      "11                   news   87203\n",
      "15                 sports   79270\n",
      "3               education   78722\n",
      "6                  health   65497\n",
      "12  religion_spirituality   62886\n",
      "18                     tv   47376\n",
      "9                 leisure   44215\n",
      "17                   true   31991\n",
      "8                    kids   25553\n",
      "10                  music   24481\n",
      "7                 history   23805\n",
      "13                science   13929\n",
      "4                 fiction   13894\n",
      "16             technology    7954\n",
      "5              government    7861\n"
     ]
    }
   ],
   "source": [
    "# Group by simplified_category and count the number of ratings\n",
    "category_rating_counts = merged_df.groupby('simplified_category')['rating'].count().reset_index() \n",
    "\n",
    "# Sort the categories by the count of ratings\n",
    "sorted_category_counts = category_rating_counts.sort_values(by='rating', ascending=False) \n",
    "print(sorted_category_counts)"
   ]
  },
  {
   "cell_type": "code",
   "execution_count": 242,
   "id": "2e19f7eb",
   "metadata": {},
   "outputs": [
    {
     "data": {
      "image/png": "[encoded data removed]",
      "text/plain": [
       "<Figure size 1200x800 with 1 Axes>"
      ]
     },
     "metadata": {},
     "output_type": "display_data"
    },
    {
     "name": "stdout",
     "output_type": "stream",
     "text": [
      "                                            podcast_name  rating\n",
      "15958                                       Crime Junkie   13241\n",
      "47578  My Favorite Murder with Karen Kilgariff and Ge...    6377\n",
      "70878                               The Ben Shapiro Show    4895\n",
      "71461                                          The Daily    3833\n",
      "84489                                   Wow in the World    3825\n",
      "78071                                True Crime Obsessed    3647\n",
      "66968                                      Story Pirates    3244\n",
      "50922                             Ologies with Alie Ward    2940\n",
      "72536                           The Joe Rogan Experience    2754\n",
      "3582                    Armchair Expert with Dax Shepard    2732\n",
      "83661                                       Wine & Crime    2484\n",
      "23965             FantasyPros - Fantasy Football Podcast    2463\n",
      "5106                                 Bachelor Happy Hour    2410\n",
      "15990                                    Crime in Sports    2385\n",
      "54404                                   Pod Save America    2248\n",
      "64958                                Something Was Wrong    2111\n",
      "19850                            Don't Keep Your Day Job    2111\n",
      "2904                             And That's Why We Drink    2108\n",
      "28355                                    Girls Gotta Eat    1973\n",
      "5941                                    Be There in Five    1935\n"
     ]
    }
   ],
   "source": [
    "# Aggregating to find the count of ratings for each podcast\n",
    "podcast_rating_counts = merged_df.groupby('podcast_name')['rating'].count().reset_index().sort_values(by='rating', ascending=False)\n",
    "\n",
    "# Getting the top podcasts based on the number of ratings\n",
    "top_rated_podcasts = podcast_rating_counts.head(20)\n",
    "\n",
    "# Visualization\n",
    "plt.figure(figsize=(12, 8))\n",
    "sns.barplot(x='rating', y='podcast_name', data=top_rated_podcasts, palette='viridis')\n",
    "plt.title('Top 10 Most Rated Podcasts')\n",
    "plt.xlabel('Number of Ratings')\n",
    "plt.ylabel('Podcast Name')\n",
    "plt.show()\n",
    "\n",
    "print(top_rated_podcasts)"
   ]
  },
  {
   "cell_type": "markdown",
   "id": "091b1875",
   "metadata": {},
   "source": [
    "<a id=\"7\"></a> \n",
    "## 4.2 Sentiment Analysis"
   ]
  },
  {
   "cell_type": "markdown",
   "id": "0a3c1915",
   "metadata": {},
   "source": [
    "### Sentiment analysis:\n",
    "\n",
    "Calculating the sentiment polarity of each review text using TextBlob's sentiment analysis capabilities and storing the result in a new column named 'sentiment'. This allows to analyze and visualize the sentiment distribution of the review content."
   ]
  },
  {
   "cell_type": "code",
   "execution_count": 244,
   "id": "b11f68a5",
   "metadata": {},
   "outputs": [
    {
     "name": "stdout",
     "output_type": "stream",
     "text": [
      "count    1.125831e+06\n",
      "mean     2.842293e-01\n",
      "std      2.605836e-01\n",
      "min     -1.000000e+00\n",
      "25%      1.227273e-01\n",
      "50%      2.812500e-01\n",
      "75%      4.375000e-01\n",
      "max      1.000000e+00\n",
      "Name: sentiment, dtype: float64\n"
     ]
    }
   ],
   "source": [
    "print(merged_df['sentiment'].describe())"
   ]
  },
  {
   "cell_type": "markdown",
   "id": "d994851e",
   "metadata": {},
   "source": [
    "* Mean (Average): The mean sentiment score is approximately 0.284, suggesting that on average, the sentiment in podcast reviews is slightly positive.\n",
    "\n",
    "* The distribution of sentiment scores suggests a broad range of reactions in podcast reviews, from extremely negative to extremely positive.\n",
    "\n",
    "* The closeness of the mean and median suggests a relatively symmetrical distribution of sentiment scores, though the presence of outliers and the broad range covered by the standard deviation highlight the diversity in listener opinions."
   ]
  },
  {
   "cell_type": "code",
   "execution_count": 245,
   "id": "7a544e85",
   "metadata": {},
   "outputs": [
    {
     "data": {
      "image/png": "[encoded data removed]",
      "text/plain": [
       "<Figure size 1000x600 with 1 Axes>"
      ]
     },
     "metadata": {},
     "output_type": "display_data"
    }
   ],
   "source": [
    "# Visualization of Sentiments Distribution\n",
    "plt.figure(figsize=(10, 6))\n",
    "sns.histplot(merged_df['sentiment'], bins=30, kde=True, color='skyblue')\n",
    "plt.title('Distribution of Sentiment Scores')\n",
    "plt.xlabel('Sentiment Score')\n",
    "plt.ylabel('Frequency')\n",
    "plt.show()"
   ]
  },
  {
   "cell_type": "code",
   "execution_count": 201,
   "id": "47a91cae",
   "metadata": {},
   "outputs": [
    {
     "data": {
      "image/png": "[encoded data removed]",
      "text/plain": [
       "<Figure size 640x480 with 1 Axes>"
      ]
     },
     "metadata": {},
     "output_type": "display_data"
    },
    {
     "name": "stdout",
     "output_type": "stream",
     "text": [
      "positive    422993\n",
      "negative     47051\n",
      "neutral      31724\n",
      "Name: sentiment_type, dtype: int64\n"
     ]
    }
   ],
   "source": [
    "# Classifying sentiments as positive, negative, or neutral\n",
    "reviews_df['sentiment_type'] = merged_df['sentiment'].apply(lambda x: 'positive' if x > 0 else ('negative' if x < 0 else 'neutral'))\n",
    "\n",
    "# Getting the count of each type of sentiment\n",
    "sentiment_counts = reviews_df['sentiment_type'].value_counts()\n",
    "\n",
    "# Visualization\n",
    "sentiment_counts.plot(kind='bar')\n",
    "plt.title('Sentiment Analysis of Review Content')\n",
    "plt.xlabel('Sentiment Type')\n",
    "plt.ylabel('Count')\n",
    "plt.show()\n",
    "\n",
    "print(sentiment_counts)"
   ]
  },
  {
   "cell_type": "code",
   "execution_count": 251,
   "id": "a6cfa732",
   "metadata": {},
   "outputs": [
    {
     "data": {
      "image/png": "[encoded data removed]",
      "text/plain": [
       "<Figure size 640x480 with 2 Axes>"
      ]
     },
     "metadata": {},
     "output_type": "display_data"
    }
   ],
   "source": [
    "# Grouping by simplified_category to calculate average rating and average sentiment\n",
    "category_analysis = merged_df.groupby('simplified_category').agg(\n",
    "    average_rating=pd.NamedAgg(column='rating', aggfunc='mean'),\n",
    "    average_sentiment=pd.NamedAgg(column='sentiment', aggfunc='mean')\n",
    ").reset_index()\n",
    "\n",
    "# Correlation Analysis\n",
    "correlation_matrix = category_analysis[['average_rating', 'average_sentiment']].corr()\n",
    "\n",
    "# Visualization of the Correlation Matrix\n",
    "sns.heatmap(correlation_matrix, annot=True, cmap='coolwarm')\n",
    "plt.title('Correlation Analysis between Average Rating and Sentiment')\n",
    "plt.show()"
   ]
  },
  {
   "cell_type": "markdown",
   "id": "36b5dc32",
   "metadata": {},
   "source": [
    "Analysis indicates a strong positive correlation between the average rating and average sentiment across different podcast categories, as evidenced by a correlation coefficient 0.938\n",
    "\n",
    "This high correlation coefficient suggests that as average ratings for podcast categories increase, so does the average sentiment, implying a strong association between how positively listeners rate podcasts and the positive sentiment expressed in their reviews."
   ]
  },
  {
   "cell_type": "code",
   "execution_count": 248,
   "id": "8baed79c",
   "metadata": {},
   "outputs": [
    {
     "name": "stdout",
     "output_type": "stream",
     "text": [
      "Correlation coefficient: 0.9384837412677942, P-value: 2.849057478881174e-09\n"
     ]
    },
    {
     "data": {
      "application/vnd.plotly.v1+json": {
       "config": {
        "plotlyServerURL": "https://plot.ly"
       },
       "data": [
        {
         "customdata": [
          [
           "arts"
          ]
         ],
         "hovertemplate": "simplified_category=%{customdata[0]}<br>average_rating=%{x}<br>average_sentiment=%{y}<extra></extra>",
         "legendgroup": "arts",
         "marker": {
          "color": "#636efa",
          "symbol": "circle"
         },
         "mode": "markers",
         "name": "arts",
         "orientation": "v",
         "showlegend": true,
         "type": "scatter",
         "x": [
          4.684487448165158
         ],
         "xaxis": "x",
         "y": [
          0.30995711726108016
         ],
         "yaxis": "y"
        },
        {
         "customdata": [
          [
           "business"
          ]
         ],
         "hovertemplate": "simplified_category=%{customdata[0]}<br>average_rating=%{x}<br>average_sentiment=%{y}<extra></extra>",
         "legendgroup": "business",
         "marker": {
          "color": "#EF553B",
          "symbol": "circle"
         },
         "mode": "markers",
         "name": "business",
         "orientation": "v",
         "showlegend": true,
         "type": "scatter",
         "x": [
          4.80436212187637
         ],
         "xaxis": "x",
         "y": [
          0.3254951422695759
         ],
         "yaxis": "y"
        },
        {
         "customdata": [
          [
           "comedy"
          ]
         ],
         "hovertemplate": "simplified_category=%{customdata[0]}<br>average_rating=%{x}<br>average_sentiment=%{y}<extra></extra>",
         "legendgroup": "comedy",
         "marker": {
          "color": "#00cc96",
          "symbol": "circle"
         },
         "mode": "markers",
         "name": "comedy",
         "orientation": "v",
         "showlegend": true,
         "type": "scatter",
         "x": [
          4.57466175724266
         ],
         "xaxis": "x",
         "y": [
          0.2630958502284759
         ],
         "yaxis": "y"
        },
        {
         "customdata": [
          [
           "education"
          ]
         ],
         "hovertemplate": "simplified_category=%{customdata[0]}<br>average_rating=%{x}<br>average_sentiment=%{y}<extra></extra>",
         "legendgroup": "education",
         "marker": {
          "color": "#ab63fa",
          "symbol": "circle"
         },
         "mode": "markers",
         "name": "education",
         "orientation": "v",
         "showlegend": true,
         "type": "scatter",
         "x": [
          4.7627473895480295
         ],
         "xaxis": "x",
         "y": [
          0.30955038048981837
         ],
         "yaxis": "y"
        },
        {
         "customdata": [
          [
           "fiction"
          ]
         ],
         "hovertemplate": "simplified_category=%{customdata[0]}<br>average_rating=%{x}<br>average_sentiment=%{y}<extra></extra>",
         "legendgroup": "fiction",
         "marker": {
          "color": "#FFA15A",
          "symbol": "circle"
         },
         "mode": "markers",
         "name": "fiction",
         "orientation": "v",
         "showlegend": true,
         "type": "scatter",
         "x": [
          4.456168130128113
         ],
         "xaxis": "x",
         "y": [
          0.27904020576385646
         ],
         "yaxis": "y"
        },
        {
         "customdata": [
          [
           "government"
          ]
         ],
         "hovertemplate": "simplified_category=%{customdata[0]}<br>average_rating=%{x}<br>average_sentiment=%{y}<extra></extra>",
         "legendgroup": "government",
         "marker": {
          "color": "#19d3f3",
          "symbol": "circle"
         },
         "mode": "markers",
         "name": "government",
         "orientation": "v",
         "showlegend": true,
         "type": "scatter",
         "x": [
          4.2667599542043
         ],
         "xaxis": "x",
         "y": [
          0.23588150809411954
         ],
         "yaxis": "y"
        },
        {
         "customdata": [
          [
           "health"
          ]
         ],
         "hovertemplate": "simplified_category=%{customdata[0]}<br>average_rating=%{x}<br>average_sentiment=%{y}<extra></extra>",
         "legendgroup": "health",
         "marker": {
          "color": "#FF6692",
          "symbol": "circle"
         },
         "mode": "markers",
         "name": "health",
         "orientation": "v",
         "showlegend": true,
         "type": "scatter",
         "x": [
          4.766493121822373
         ],
         "xaxis": "x",
         "y": [
          0.30352091992331953
         ],
         "yaxis": "y"
        },
        {
         "customdata": [
          [
           "history"
          ]
         ],
         "hovertemplate": "simplified_category=%{customdata[0]}<br>average_rating=%{x}<br>average_sentiment=%{y}<extra></extra>",
         "legendgroup": "history",
         "marker": {
          "color": "#B6E880",
          "symbol": "circle"
         },
         "mode": "markers",
         "name": "history",
         "orientation": "v",
         "showlegend": true,
         "type": "scatter",
         "x": [
          4.303255618567528
         ],
         "xaxis": "x",
         "y": [
          0.2563120311672144
         ],
         "yaxis": "y"
        },
        {
         "customdata": [
          [
           "kids"
          ]
         ],
         "hovertemplate": "simplified_category=%{customdata[0]}<br>average_rating=%{x}<br>average_sentiment=%{y}<extra></extra>",
         "legendgroup": "kids",
         "marker": {
          "color": "#FF97FF",
          "symbol": "circle"
         },
         "mode": "markers",
         "name": "kids",
         "orientation": "v",
         "showlegend": true,
         "type": "scatter",
         "x": [
          4.644777521230384
         ],
         "xaxis": "x",
         "y": [
          0.3109378430481953
         ],
         "yaxis": "y"
        },
        {
         "customdata": [
          [
           "leisure"
          ]
         ],
         "hovertemplate": "simplified_category=%{customdata[0]}<br>average_rating=%{x}<br>average_sentiment=%{y}<extra></extra>",
         "legendgroup": "leisure",
         "marker": {
          "color": "#FECB52",
          "symbol": "circle"
         },
         "mode": "markers",
         "name": "leisure",
         "orientation": "v",
         "showlegend": true,
         "type": "scatter",
         "x": [
          4.6996494402352145
         ],
         "xaxis": "x",
         "y": [
          0.3042435331223485
         ],
         "yaxis": "y"
        },
        {
         "customdata": [
          [
           "music"
          ]
         ],
         "hovertemplate": "simplified_category=%{customdata[0]}<br>average_rating=%{x}<br>average_sentiment=%{y}<extra></extra>",
         "legendgroup": "music",
         "marker": {
          "color": "#636efa",
          "symbol": "circle"
         },
         "mode": "markers",
         "name": "music",
         "orientation": "v",
         "showlegend": true,
         "type": "scatter",
         "x": [
          4.732568114047629
         ],
         "xaxis": "x",
         "y": [
          0.3295409398655648
         ],
         "yaxis": "y"
        },
        {
         "customdata": [
          [
           "news"
          ]
         ],
         "hovertemplate": "simplified_category=%{customdata[0]}<br>average_rating=%{x}<br>average_sentiment=%{y}<extra></extra>",
         "legendgroup": "news",
         "marker": {
          "color": "#EF553B",
          "symbol": "circle"
         },
         "mode": "markers",
         "name": "news",
         "orientation": "v",
         "showlegend": true,
         "type": "scatter",
         "x": [
          4.123080627960047
         ],
         "xaxis": "x",
         "y": [
          0.22111561011471037
         ],
         "yaxis": "y"
        },
        {
         "customdata": [
          [
           "religion_spirituality"
          ]
         ],
         "hovertemplate": "simplified_category=%{customdata[0]}<br>average_rating=%{x}<br>average_sentiment=%{y}<extra></extra>",
         "legendgroup": "religion_spirituality",
         "marker": {
          "color": "#00cc96",
          "symbol": "circle"
         },
         "mode": "markers",
         "name": "religion_spirituality",
         "orientation": "v",
         "showlegend": true,
         "type": "scatter",
         "x": [
          4.770934707248036
         ],
         "xaxis": "x",
         "y": [
          0.2988315034844293
         ],
         "yaxis": "y"
        },
        {
         "customdata": [
          [
           "science"
          ]
         ],
         "hovertemplate": "simplified_category=%{customdata[0]}<br>average_rating=%{x}<br>average_sentiment=%{y}<extra></extra>",
         "legendgroup": "science",
         "marker": {
          "color": "#ab63fa",
          "symbol": "circle"
         },
         "mode": "markers",
         "name": "science",
         "orientation": "v",
         "showlegend": true,
         "type": "scatter",
         "x": [
          4.264627755043435
         ],
         "xaxis": "x",
         "y": [
          0.26390463960172605
         ],
         "yaxis": "y"
        },
        {
         "customdata": [
          [
           "society"
          ]
         ],
         "hovertemplate": "simplified_category=%{customdata[0]}<br>average_rating=%{x}<br>average_sentiment=%{y}<extra></extra>",
         "legendgroup": "society",
         "marker": {
          "color": "#FFA15A",
          "symbol": "circle"
         },
         "mode": "markers",
         "name": "society",
         "orientation": "v",
         "showlegend": true,
         "type": "scatter",
         "x": [
          4.319005233672416
         ],
         "xaxis": "x",
         "y": [
          0.26078829142821514
         ],
         "yaxis": "y"
        },
        {
         "customdata": [
          [
           "sports"
          ]
         ],
         "hovertemplate": "simplified_category=%{customdata[0]}<br>average_rating=%{x}<br>average_sentiment=%{y}<extra></extra>",
         "legendgroup": "sports",
         "marker": {
          "color": "#19d3f3",
          "symbol": "circle"
         },
         "mode": "markers",
         "name": "sports",
         "orientation": "v",
         "showlegend": true,
         "type": "scatter",
         "x": [
          4.540267440393592
         ],
         "xaxis": "x",
         "y": [
          0.29899067468245966
         ],
         "yaxis": "y"
        },
        {
         "customdata": [
          [
           "technology"
          ]
         ],
         "hovertemplate": "simplified_category=%{customdata[0]}<br>average_rating=%{x}<br>average_sentiment=%{y}<extra></extra>",
         "legendgroup": "technology",
         "marker": {
          "color": "#FF6692",
          "symbol": "circle"
         },
         "mode": "markers",
         "name": "technology",
         "orientation": "v",
         "showlegend": true,
         "type": "scatter",
         "x": [
          4.471460900176012
         ],
         "xaxis": "x",
         "y": [
          0.2805977524086847
         ],
         "yaxis": "y"
        },
        {
         "customdata": [
          [
           "true"
          ]
         ],
         "hovertemplate": "simplified_category=%{customdata[0]}<br>average_rating=%{x}<br>average_sentiment=%{y}<extra></extra>",
         "legendgroup": "true",
         "marker": {
          "color": "#B6E880",
          "symbol": "circle"
         },
         "mode": "markers",
         "name": "true",
         "orientation": "v",
         "showlegend": true,
         "type": "scatter",
         "x": [
          3.965490294145228
         ],
         "xaxis": "x",
         "y": [
          0.20818065639853997
         ],
         "yaxis": "y"
        },
        {
         "customdata": [
          [
           "tv"
          ]
         ],
         "hovertemplate": "simplified_category=%{customdata[0]}<br>average_rating=%{x}<br>average_sentiment=%{y}<extra></extra>",
         "legendgroup": "tv",
         "marker": {
          "color": "#FF97FF",
          "symbol": "circle"
         },
         "mode": "markers",
         "name": "tv",
         "orientation": "v",
         "showlegend": true,
         "type": "scatter",
         "x": [
          4.507451030057413
         ],
         "xaxis": "x",
         "y": [
          0.28892802720012223
         ],
         "yaxis": "y"
        }
       ],
       "layout": {
        "legend": {
         "title": {
          "text": "simplified_category"
         },
         "tracegroupgap": 0
        },
        "template": {
         "data": {
          "bar": [
           {
            "error_x": {
             "color": "#2a3f5f"
            },
            "error_y": {
             "color": "#2a3f5f"
            },
            "marker": {
             "line": {
              "color": "#E5ECF6",
              "width": 0.5
             },
             "pattern": {
              "fillmode": "overlay",
              "size": 10,
              "solidity": 0.2
             }
            },
            "type": "bar"
           }
          ],
          "barpolar": [
           {
            "marker": {
             "line": {
              "color": "#E5ECF6",
              "width": 0.5
             },
             "pattern": {
              "fillmode": "overlay",
              "size": 10,
              "solidity": 0.2
             }
            },
            "type": "barpolar"
           }
          ],
          "carpet": [
           {
            "aaxis": {
             "endlinecolor": "#2a3f5f",
             "gridcolor": "white",
             "linecolor": "white",
             "minorgridcolor": "white",
             "startlinecolor": "#2a3f5f"
            },
            "baxis": {
             "endlinecolor": "#2a3f5f",
             "gridcolor": "white",
             "linecolor": "white",
             "minorgridcolor": "white",
             "startlinecolor": "#2a3f5f"
            },
            "type": "carpet"
           }
          ],
          "choropleth": [
           {
            "colorbar": {
             "outlinewidth": 0,
             "ticks": ""
            },
            "type": "choropleth"
           }
          ],
          "contour": [
           {
            "colorbar": {
             "outlinewidth": 0,
             "ticks": ""
            },
            "colorscale": [
             [
              0,
              "#0d0887"
             ],
             [
              0.1111111111111111,
              "#46039f"
             ],
             [
              0.2222222222222222,
              "#7201a8"
             ],
             [
              0.3333333333333333,
              "#9c179e"
             ],
             [
              0.4444444444444444,
              "#bd3786"
             ],
             [
              0.5555555555555556,
              "#d8576b"
             ],
             [
              0.6666666666666666,
              "#ed7953"
             ],
             [
              0.7777777777777778,
              "#fb9f3a"
             ],
             [
              0.8888888888888888,
              "#fdca26"
             ],
             [
              1,
              "#f0f921"
             ]
            ],
            "type": "contour"
           }
          ],
          "contourcarpet": [
           {
            "colorbar": {
             "outlinewidth": 0,
             "ticks": ""
            },
            "type": "contourcarpet"
           }
          ],
          "heatmap": [
           {
            "colorbar": {
             "outlinewidth": 0,
             "ticks": ""
            },
            "colorscale": [
             [
              0,
              "#0d0887"
             ],
             [
              0.1111111111111111,
              "#46039f"
             ],
             [
              0.2222222222222222,
              "#7201a8"
             ],
             [
              0.3333333333333333,
              "#9c179e"
             ],
             [
              0.4444444444444444,
              "#bd3786"
             ],
             [
              0.5555555555555556,
              "#d8576b"
             ],
             [
              0.6666666666666666,
              "#ed7953"
             ],
             [
              0.7777777777777778,
              "#fb9f3a"
             ],
             [
              0.8888888888888888,
              "#fdca26"
             ],
             [
              1,
              "#f0f921"
             ]
            ],
            "type": "heatmap"
           }
          ],
          "heatmapgl": [
           {
            "colorbar": {
             "outlinewidth": 0,
             "ticks": ""
            },
            "colorscale": [
             [
              0,
              "#0d0887"
             ],
             [
              0.1111111111111111,
              "#46039f"
             ],
             [
              0.2222222222222222,
              "#7201a8"
             ],
             [
              0.3333333333333333,
              "#9c179e"
             ],
             [
              0.4444444444444444,
              "#bd3786"
             ],
             [
              0.5555555555555556,
              "#d8576b"
             ],
             [
              0.6666666666666666,
              "#ed7953"
             ],
             [
              0.7777777777777778,
              "#fb9f3a"
             ],
             [
              0.8888888888888888,
              "#fdca26"
             ],
             [
              1,
              "#f0f921"
             ]
            ],
            "type": "heatmapgl"
           }
          ],
          "histogram": [
           {
            "marker": {
             "pattern": {
              "fillmode": "overlay",
              "size": 10,
              "solidity": 0.2
             }
            },
            "type": "histogram"
           }
          ],
          "histogram2d": [
           {
            "colorbar": {
             "outlinewidth": 0,
             "ticks": ""
            },
            "colorscale": [
             [
              0,
              "#0d0887"
             ],
             [
              0.1111111111111111,
              "#46039f"
             ],
             [
              0.2222222222222222,
              "#7201a8"
             ],
             [
              0.3333333333333333,
              "#9c179e"
             ],
             [
              0.4444444444444444,
              "#bd3786"
             ],
             [
              0.5555555555555556,
              "#d8576b"
             ],
             [
              0.6666666666666666,
              "#ed7953"
             ],
             [
              0.7777777777777778,
              "#fb9f3a"
             ],
             [
              0.8888888888888888,
              "#fdca26"
             ],
             [
              1,
              "#f0f921"
             ]
            ],
            "type": "histogram2d"
           }
          ],
          "histogram2dcontour": [
           {
            "colorbar": {
             "outlinewidth": 0,
             "ticks": ""
            },
            "colorscale": [
             [
              0,
              "#0d0887"
             ],
             [
              0.1111111111111111,
              "#46039f"
             ],
             [
              0.2222222222222222,
              "#7201a8"
             ],
             [
              0.3333333333333333,
              "#9c179e"
             ],
             [
              0.4444444444444444,
              "#bd3786"
             ],
             [
              0.5555555555555556,
              "#d8576b"
             ],
             [
              0.6666666666666666,
              "#ed7953"
             ],
             [
              0.7777777777777778,
              "#fb9f3a"
             ],
             [
              0.8888888888888888,
              "#fdca26"
             ],
             [
              1,
              "#f0f921"
             ]
            ],
            "type": "histogram2dcontour"
           }
          ],
          "mesh3d": [
           {
            "colorbar": {
             "outlinewidth": 0,
             "ticks": ""
            },
            "type": "mesh3d"
           }
          ],
          "parcoords": [
           {
            "line": {
             "colorbar": {
              "outlinewidth": 0,
              "ticks": ""
             }
            },
            "type": "parcoords"
           }
          ],
          "pie": [
           {
            "automargin": true,
            "type": "pie"
           }
          ],
          "scatter": [
           {
            "fillpattern": {
             "fillmode": "overlay",
             "size": 10,
             "solidity": 0.2
            },
            "type": "scatter"
           }
          ],
          "scatter3d": [
           {
            "line": {
             "colorbar": {
              "outlinewidth": 0,
              "ticks": ""
             }
            },
            "marker": {
             "colorbar": {
              "outlinewidth": 0,
              "ticks": ""
             }
            },
            "type": "scatter3d"
           }
          ],
          "scattercarpet": [
           {
            "marker": {
             "colorbar": {
              "outlinewidth": 0,
              "ticks": ""
             }
            },
            "type": "scattercarpet"
           }
          ],
          "scattergeo": [
           {
            "marker": {
             "colorbar": {
              "outlinewidth": 0,
              "ticks": ""
             }
            },
            "type": "scattergeo"
           }
          ],
          "scattergl": [
           {
            "marker": {
             "colorbar": {
              "outlinewidth": 0,
              "ticks": ""
             }
            },
            "type": "scattergl"
           }
          ],
          "scattermapbox": [
           {
            "marker": {
             "colorbar": {
              "outlinewidth": 0,
              "ticks": ""
             }
            },
            "type": "scattermapbox"
           }
          ],
          "scatterpolar": [
           {
            "marker": {
             "colorbar": {
              "outlinewidth": 0,
              "ticks": ""
             }
            },
            "type": "scatterpolar"
           }
          ],
          "scatterpolargl": [
           {
            "marker": {
             "colorbar": {
              "outlinewidth": 0,
              "ticks": ""
             }
            },
            "type": "scatterpolargl"
           }
          ],
          "scatterternary": [
           {
            "marker": {
             "colorbar": {
              "outlinewidth": 0,
              "ticks": ""
             }
            },
            "type": "scatterternary"
           }
          ],
          "surface": [
           {
            "colorbar": {
             "outlinewidth": 0,
             "ticks": ""
            },
            "colorscale": [
             [
              0,
              "#0d0887"
             ],
             [
              0.1111111111111111,
              "#46039f"
             ],
             [
              0.2222222222222222,
              "#7201a8"
             ],
             [
              0.3333333333333333,
              "#9c179e"
             ],
             [
              0.4444444444444444,
              "#bd3786"
             ],
             [
              0.5555555555555556,
              "#d8576b"
             ],
             [
              0.6666666666666666,
              "#ed7953"
             ],
             [
              0.7777777777777778,
              "#fb9f3a"
             ],
             [
              0.8888888888888888,
              "#fdca26"
             ],
             [
              1,
              "#f0f921"
             ]
            ],
            "type": "surface"
           }
          ],
          "table": [
           {
            "cells": {
             "fill": {
              "color": "#EBF0F8"
             },
             "line": {
              "color": "white"
             }
            },
            "header": {
             "fill": {
              "color": "#C8D4E3"
             },
             "line": {
              "color": "white"
             }
            },
            "type": "table"
           }
          ]
         },
         "layout": {
          "annotationdefaults": {
           "arrowcolor": "#2a3f5f",
           "arrowhead": 0,
           "arrowwidth": 1
          },
          "autotypenumbers": "strict",
          "coloraxis": {
           "colorbar": {
            "outlinewidth": 0,
            "ticks": ""
           }
          },
          "colorscale": {
           "diverging": [
            [
             0,
             "#8e0152"
            ],
            [
             0.1,
             "#c51b7d"
            ],
            [
             0.2,
             "#de77ae"
            ],
            [
             0.3,
             "#f1b6da"
            ],
            [
             0.4,
             "#fde0ef"
            ],
            [
             0.5,
             "#f7f7f7"
            ],
            [
             0.6,
             "#e6f5d0"
            ],
            [
             0.7,
             "#b8e186"
            ],
            [
             0.8,
             "#7fbc41"
            ],
            [
             0.9,
             "#4d9221"
            ],
            [
             1,
             "#276419"
            ]
           ],
           "sequential": [
            [
             0,
             "#0d0887"
            ],
            [
             0.1111111111111111,
             "#46039f"
            ],
            [
             0.2222222222222222,
             "#7201a8"
            ],
            [
             0.3333333333333333,
             "#9c179e"
            ],
            [
             0.4444444444444444,
             "#bd3786"
            ],
            [
             0.5555555555555556,
             "#d8576b"
            ],
            [
             0.6666666666666666,
             "#ed7953"
            ],
            [
             0.7777777777777778,
             "#fb9f3a"
            ],
            [
             0.8888888888888888,
             "#fdca26"
            ],
            [
             1,
             "#f0f921"
            ]
           ],
           "sequentialminus": [
            [
             0,
             "#0d0887"
            ],
            [
             0.1111111111111111,
             "#46039f"
            ],
            [
             0.2222222222222222,
             "#7201a8"
            ],
            [
             0.3333333333333333,
             "#9c179e"
            ],
            [
             0.4444444444444444,
             "#bd3786"
            ],
            [
             0.5555555555555556,
             "#d8576b"
            ],
            [
             0.6666666666666666,
             "#ed7953"
            ],
            [
             0.7777777777777778,
             "#fb9f3a"
            ],
            [
             0.8888888888888888,
             "#fdca26"
            ],
            [
             1,
             "#f0f921"
            ]
           ]
          },
          "colorway": [
           "#636efa",
           "#EF553B",
           "#00cc96",
           "#ab63fa",
           "#FFA15A",
           "#19d3f3",
           "#FF6692",
           "#B6E880",
           "#FF97FF",
           "#FECB52"
          ],
          "font": {
           "color": "#2a3f5f"
          },
          "geo": {
           "bgcolor": "white",
           "lakecolor": "white",
           "landcolor": "#E5ECF6",
           "showlakes": true,
           "showland": true,
           "subunitcolor": "white"
          },
          "hoverlabel": {
           "align": "left"
          },
          "hovermode": "closest",
          "mapbox": {
           "style": "light"
          },
          "paper_bgcolor": "white",
          "plot_bgcolor": "#E5ECF6",
          "polar": {
           "angularaxis": {
            "gridcolor": "white",
            "linecolor": "white",
            "ticks": ""
           },
           "bgcolor": "#E5ECF6",
           "radialaxis": {
            "gridcolor": "white",
            "linecolor": "white",
            "ticks": ""
           }
          },
          "scene": {
           "xaxis": {
            "backgroundcolor": "#E5ECF6",
            "gridcolor": "white",
            "gridwidth": 2,
            "linecolor": "white",
            "showbackground": true,
            "ticks": "",
            "zerolinecolor": "white"
           },
           "yaxis": {
            "backgroundcolor": "#E5ECF6",
            "gridcolor": "white",
            "gridwidth": 2,
            "linecolor": "white",
            "showbackground": true,
            "ticks": "",
            "zerolinecolor": "white"
           },
           "zaxis": {
            "backgroundcolor": "#E5ECF6",
            "gridcolor": "white",
            "gridwidth": 2,
            "linecolor": "white",
            "showbackground": true,
            "ticks": "",
            "zerolinecolor": "white"
           }
          },
          "shapedefaults": {
           "line": {
            "color": "#2a3f5f"
           }
          },
          "ternary": {
           "aaxis": {
            "gridcolor": "white",
            "linecolor": "white",
            "ticks": ""
           },
           "baxis": {
            "gridcolor": "white",
            "linecolor": "white",
            "ticks": ""
           },
           "bgcolor": "#E5ECF6",
           "caxis": {
            "gridcolor": "white",
            "linecolor": "white",
            "ticks": ""
           }
          },
          "title": {
           "x": 0.05
          },
          "xaxis": {
           "automargin": true,
           "gridcolor": "white",
           "linecolor": "white",
           "ticks": "",
           "title": {
            "standoff": 15
           },
           "zerolinecolor": "white",
           "zerolinewidth": 2
          },
          "yaxis": {
           "automargin": true,
           "gridcolor": "white",
           "linecolor": "white",
           "ticks": "",
           "title": {
            "standoff": 15
           },
           "zerolinecolor": "white",
           "zerolinewidth": 2
          }
         }
        },
        "title": {
         "text": "Interactive Plot: Relationship Between Average Rating and Average Sentiment in Each Category"
        },
        "xaxis": {
         "anchor": "y",
         "domain": [
          0,
          1
         ],
         "title": {
          "text": "average_rating"
         }
        },
        "yaxis": {
         "anchor": "x",
         "domain": [
          0,
          1
         ],
         "title": {
          "text": "average_sentiment"
         }
        }
       }
      },
      "text/html": [
       "<div>                            <div id=\"3e1679a0-cc99-4b7d-b05b-58f68fa40786\" class=\"plotly-graph-div\" style=\"height:525px; width:100%;\"></div>            <script type=\"text/javascript\">                require([\"plotly\"], function(Plotly) {                    window.PLOTLYENV=window.PLOTLYENV || {};                                    if (document.getElementById(\"3e1679a0-cc99-4b7d-b05b-58f68fa40786\")) {                    Plotly.newPlot(                        \"3e1679a0-cc99-4b7d-b05b-58f68fa40786\",                        [{\"customdata\":[[\"arts\"]],\"hovertemplate\":\"simplified_category=%{customdata[0]}<br>average_rating=%{x}<br>average_sentiment=%{y}<extra></extra>\",\"legendgroup\":\"arts\",\"marker\":{\"color\":\"#636efa\",\"symbol\":\"circle\"},\"mode\":\"markers\",\"name\":\"arts\",\"orientation\":\"v\",\"showlegend\":true,\"x\":[4.684487448165158],\"xaxis\":\"x\",\"y\":[0.30995711726108016],\"yaxis\":\"y\",\"type\":\"scatter\"},{\"customdata\":[[\"business\"]],\"hovertemplate\":\"simplified_category=%{customdata[0]}<br>average_rating=%{x}<br>average_sentiment=%{y}<extra></extra>\",\"legendgroup\":\"business\",\"marker\":{\"color\":\"#EF553B\",\"symbol\":\"circle\"},\"mode\":\"markers\",\"name\":\"business\",\"orientation\":\"v\",\"showlegend\":true,\"x\":[4.80436212187637],\"xaxis\":\"x\",\"y\":[0.3254951422695759],\"yaxis\":\"y\",\"type\":\"scatter\"},{\"customdata\":[[\"comedy\"]],\"hovertemplate\":\"simplified_category=%{customdata[0]}<br>average_rating=%{x}<br>average_sentiment=%{y}<extra></extra>\",\"legendgroup\":\"comedy\",\"marker\":{\"color\":\"#00cc96\",\"symbol\":\"circle\"},\"mode\":\"markers\",\"name\":\"comedy\",\"orientation\":\"v\",\"showlegend\":true,\"x\":[4.57466175724266],\"xaxis\":\"x\",\"y\":[0.2630958502284759],\"yaxis\":\"y\",\"type\":\"scatter\"},{\"customdata\":[[\"education\"]],\"hovertemplate\":\"simplified_category=%{customdata[0]}<br>average_rating=%{x}<br>average_sentiment=%{y}<extra></extra>\",\"legendgroup\":\"education\",\"marker\":{\"color\":\"#ab63fa\",\"symbol\":\"circle\"},\"mode\":\"markers\",\"name\":\"education\",\"orientation\":\"v\",\"showlegend\":true,\"x\":[4.7627473895480295],\"xaxis\":\"x\",\"y\":[0.30955038048981837],\"yaxis\":\"y\",\"type\":\"scatter\"},{\"customdata\":[[\"fiction\"]],\"hovertemplate\":\"simplified_category=%{customdata[0]}<br>average_rating=%{x}<br>average_sentiment=%{y}<extra></extra>\",\"legendgroup\":\"fiction\",\"marker\":{\"color\":\"#FFA15A\",\"symbol\":\"circle\"},\"mode\":\"markers\",\"name\":\"fiction\",\"orientation\":\"v\",\"showlegend\":true,\"x\":[4.456168130128113],\"xaxis\":\"x\",\"y\":[0.27904020576385646],\"yaxis\":\"y\",\"type\":\"scatter\"},{\"customdata\":[[\"government\"]],\"hovertemplate\":\"simplified_category=%{customdata[0]}<br>average_rating=%{x}<br>average_sentiment=%{y}<extra></extra>\",\"legendgroup\":\"government\",\"marker\":{\"color\":\"#19d3f3\",\"symbol\":\"circle\"},\"mode\":\"markers\",\"name\":\"government\",\"orientation\":\"v\",\"showlegend\":true,\"x\":[4.2667599542043],\"xaxis\":\"x\",\"y\":[0.23588150809411954],\"yaxis\":\"y\",\"type\":\"scatter\"},{\"customdata\":[[\"health\"]],\"hovertemplate\":\"simplified_category=%{customdata[0]}<br>average_rating=%{x}<br>average_sentiment=%{y}<extra></extra>\",\"legendgroup\":\"health\",\"marker\":{\"color\":\"#FF6692\",\"symbol\":\"circle\"},\"mode\":\"markers\",\"name\":\"health\",\"orientation\":\"v\",\"showlegend\":true,\"x\":[4.766493121822373],\"xaxis\":\"x\",\"y\":[0.30352091992331953],\"yaxis\":\"y\",\"type\":\"scatter\"},{\"customdata\":[[\"history\"]],\"hovertemplate\":\"simplified_category=%{customdata[0]}<br>average_rating=%{x}<br>average_sentiment=%{y}<extra></extra>\",\"legendgroup\":\"history\",\"marker\":{\"color\":\"#B6E880\",\"symbol\":\"circle\"},\"mode\":\"markers\",\"name\":\"history\",\"orientation\":\"v\",\"showlegend\":true,\"x\":[4.303255618567528],\"xaxis\":\"x\",\"y\":[0.2563120311672144],\"yaxis\":\"y\",\"type\":\"scatter\"},{\"customdata\":[[\"kids\"]],\"hovertemplate\":\"simplified_category=%{customdata[0]}<br>average_rating=%{x}<br>average_sentiment=%{y}<extra></extra>\",\"legendgroup\":\"kids\",\"marker\":{\"color\":\"#FF97FF\",\"symbol\":\"circle\"},\"mode\":\"markers\",\"name\":\"kids\",\"orientation\":\"v\",\"showlegend\":true,\"x\":[4.644777521230384],\"xaxis\":\"x\",\"y\":[0.3109378430481953],\"yaxis\":\"y\",\"type\":\"scatter\"},{\"customdata\":[[\"leisure\"]],\"hovertemplate\":\"simplified_category=%{customdata[0]}<br>average_rating=%{x}<br>average_sentiment=%{y}<extra></extra>\",\"legendgroup\":\"leisure\",\"marker\":{\"color\":\"#FECB52\",\"symbol\":\"circle\"},\"mode\":\"markers\",\"name\":\"leisure\",\"orientation\":\"v\",\"showlegend\":true,\"x\":[4.6996494402352145],\"xaxis\":\"x\",\"y\":[0.3042435331223485],\"yaxis\":\"y\",\"type\":\"scatter\"},{\"customdata\":[[\"music\"]],\"hovertemplate\":\"simplified_category=%{customdata[0]}<br>average_rating=%{x}<br>average_sentiment=%{y}<extra></extra>\",\"legendgroup\":\"music\",\"marker\":{\"color\":\"#636efa\",\"symbol\":\"circle\"},\"mode\":\"markers\",\"name\":\"music\",\"orientation\":\"v\",\"showlegend\":true,\"x\":[4.732568114047629],\"xaxis\":\"x\",\"y\":[0.3295409398655648],\"yaxis\":\"y\",\"type\":\"scatter\"},{\"customdata\":[[\"news\"]],\"hovertemplate\":\"simplified_category=%{customdata[0]}<br>average_rating=%{x}<br>average_sentiment=%{y}<extra></extra>\",\"legendgroup\":\"news\",\"marker\":{\"color\":\"#EF553B\",\"symbol\":\"circle\"},\"mode\":\"markers\",\"name\":\"news\",\"orientation\":\"v\",\"showlegend\":true,\"x\":[4.123080627960047],\"xaxis\":\"x\",\"y\":[0.22111561011471037],\"yaxis\":\"y\",\"type\":\"scatter\"},{\"customdata\":[[\"religion_spirituality\"]],\"hovertemplate\":\"simplified_category=%{customdata[0]}<br>average_rating=%{x}<br>average_sentiment=%{y}<extra></extra>\",\"legendgroup\":\"religion_spirituality\",\"marker\":{\"color\":\"#00cc96\",\"symbol\":\"circle\"},\"mode\":\"markers\",\"name\":\"religion_spirituality\",\"orientation\":\"v\",\"showlegend\":true,\"x\":[4.770934707248036],\"xaxis\":\"x\",\"y\":[0.2988315034844293],\"yaxis\":\"y\",\"type\":\"scatter\"},{\"customdata\":[[\"science\"]],\"hovertemplate\":\"simplified_category=%{customdata[0]}<br>average_rating=%{x}<br>average_sentiment=%{y}<extra></extra>\",\"legendgroup\":\"science\",\"marker\":{\"color\":\"#ab63fa\",\"symbol\":\"circle\"},\"mode\":\"markers\",\"name\":\"science\",\"orientation\":\"v\",\"showlegend\":true,\"x\":[4.264627755043435],\"xaxis\":\"x\",\"y\":[0.26390463960172605],\"yaxis\":\"y\",\"type\":\"scatter\"},{\"customdata\":[[\"society\"]],\"hovertemplate\":\"simplified_category=%{customdata[0]}<br>average_rating=%{x}<br>average_sentiment=%{y}<extra></extra>\",\"legendgroup\":\"society\",\"marker\":{\"color\":\"#FFA15A\",\"symbol\":\"circle\"},\"mode\":\"markers\",\"name\":\"society\",\"orientation\":\"v\",\"showlegend\":true,\"x\":[4.319005233672416],\"xaxis\":\"x\",\"y\":[0.26078829142821514],\"yaxis\":\"y\",\"type\":\"scatter\"},{\"customdata\":[[\"sports\"]],\"hovertemplate\":\"simplified_category=%{customdata[0]}<br>average_rating=%{x}<br>average_sentiment=%{y}<extra></extra>\",\"legendgroup\":\"sports\",\"marker\":{\"color\":\"#19d3f3\",\"symbol\":\"circle\"},\"mode\":\"markers\",\"name\":\"sports\",\"orientation\":\"v\",\"showlegend\":true,\"x\":[4.540267440393592],\"xaxis\":\"x\",\"y\":[0.29899067468245966],\"yaxis\":\"y\",\"type\":\"scatter\"},{\"customdata\":[[\"technology\"]],\"hovertemplate\":\"simplified_category=%{customdata[0]}<br>average_rating=%{x}<br>average_sentiment=%{y}<extra></extra>\",\"legendgroup\":\"technology\",\"marker\":{\"color\":\"#FF6692\",\"symbol\":\"circle\"},\"mode\":\"markers\",\"name\":\"technology\",\"orientation\":\"v\",\"showlegend\":true,\"x\":[4.471460900176012],\"xaxis\":\"x\",\"y\":[0.2805977524086847],\"yaxis\":\"y\",\"type\":\"scatter\"},{\"customdata\":[[\"true\"]],\"hovertemplate\":\"simplified_category=%{customdata[0]}<br>average_rating=%{x}<br>average_sentiment=%{y}<extra></extra>\",\"legendgroup\":\"true\",\"marker\":{\"color\":\"#B6E880\",\"symbol\":\"circle\"},\"mode\":\"markers\",\"name\":\"true\",\"orientation\":\"v\",\"showlegend\":true,\"x\":[3.965490294145228],\"xaxis\":\"x\",\"y\":[0.20818065639853997],\"yaxis\":\"y\",\"type\":\"scatter\"},{\"customdata\":[[\"tv\"]],\"hovertemplate\":\"simplified_category=%{customdata[0]}<br>average_rating=%{x}<br>average_sentiment=%{y}<extra></extra>\",\"legendgroup\":\"tv\",\"marker\":{\"color\":\"#FF97FF\",\"symbol\":\"circle\"},\"mode\":\"markers\",\"name\":\"tv\",\"orientation\":\"v\",\"showlegend\":true,\"x\":[4.507451030057413],\"xaxis\":\"x\",\"y\":[0.28892802720012223],\"yaxis\":\"y\",\"type\":\"scatter\"}],                        {\"template\":{\"data\":{\"histogram2dcontour\":[{\"type\":\"histogram2dcontour\",\"colorbar\":{\"outlinewidth\":0,\"ticks\":\"\"},\"colorscale\":[[0.0,\"#0d0887\"],[0.1111111111111111,\"#46039f\"],[0.2222222222222222,\"#7201a8\"],[0.3333333333333333,\"#9c179e\"],[0.4444444444444444,\"#bd3786\"],[0.5555555555555556,\"#d8576b\"],[0.6666666666666666,\"#ed7953\"],[0.7777777777777778,\"#fb9f3a\"],[0.8888888888888888,\"#fdca26\"],[1.0,\"#f0f921\"]]}],\"choropleth\":[{\"type\":\"choropleth\",\"colorbar\":{\"outlinewidth\":0,\"ticks\":\"\"}}],\"histogram2d\":[{\"type\":\"histogram2d\",\"colorbar\":{\"outlinewidth\":0,\"ticks\":\"\"},\"colorscale\":[[0.0,\"#0d0887\"],[0.1111111111111111,\"#46039f\"],[0.2222222222222222,\"#7201a8\"],[0.3333333333333333,\"#9c179e\"],[0.4444444444444444,\"#bd3786\"],[0.5555555555555556,\"#d8576b\"],[0.6666666666666666,\"#ed7953\"],[0.7777777777777778,\"#fb9f3a\"],[0.8888888888888888,\"#fdca26\"],[1.0,\"#f0f921\"]]}],\"heatmap\":[{\"type\":\"heatmap\",\"colorbar\":{\"outlinewidth\":0,\"ticks\":\"\"},\"colorscale\":[[0.0,\"#0d0887\"],[0.1111111111111111,\"#46039f\"],[0.2222222222222222,\"#7201a8\"],[0.3333333333333333,\"#9c179e\"],[0.4444444444444444,\"#bd3786\"],[0.5555555555555556,\"#d8576b\"],[0.6666666666666666,\"#ed7953\"],[0.7777777777777778,\"#fb9f3a\"],[0.8888888888888888,\"#fdca26\"],[1.0,\"#f0f921\"]]}],\"heatmapgl\":[{\"type\":\"heatmapgl\",\"colorbar\":{\"outlinewidth\":0,\"ticks\":\"\"},\"colorscale\":[[0.0,\"#0d0887\"],[0.1111111111111111,\"#46039f\"],[0.2222222222222222,\"#7201a8\"],[0.3333333333333333,\"#9c179e\"],[0.4444444444444444,\"#bd3786\"],[0.5555555555555556,\"#d8576b\"],[0.6666666666666666,\"#ed7953\"],[0.7777777777777778,\"#fb9f3a\"],[0.8888888888888888,\"#fdca26\"],[1.0,\"#f0f921\"]]}],\"contourcarpet\":[{\"type\":\"contourcarpet\",\"colorbar\":{\"outlinewidth\":0,\"ticks\":\"\"}}],\"contour\":[{\"type\":\"contour\",\"colorbar\":{\"outlinewidth\":0,\"ticks\":\"\"},\"colorscale\":[[0.0,\"#0d0887\"],[0.1111111111111111,\"#46039f\"],[0.2222222222222222,\"#7201a8\"],[0.3333333333333333,\"#9c179e\"],[0.4444444444444444,\"#bd3786\"],[0.5555555555555556,\"#d8576b\"],[0.6666666666666666,\"#ed7953\"],[0.7777777777777778,\"#fb9f3a\"],[0.8888888888888888,\"#fdca26\"],[1.0,\"#f0f921\"]]}],\"surface\":[{\"type\":\"surface\",\"colorbar\":{\"outlinewidth\":0,\"ticks\":\"\"},\"colorscale\":[[0.0,\"#0d0887\"],[0.1111111111111111,\"#46039f\"],[0.2222222222222222,\"#7201a8\"],[0.3333333333333333,\"#9c179e\"],[0.4444444444444444,\"#bd3786\"],[0.5555555555555556,\"#d8576b\"],[0.6666666666666666,\"#ed7953\"],[0.7777777777777778,\"#fb9f3a\"],[0.8888888888888888,\"#fdca26\"],[1.0,\"#f0f921\"]]}],\"mesh3d\":[{\"type\":\"mesh3d\",\"colorbar\":{\"outlinewidth\":0,\"ticks\":\"\"}}],\"scatter\":[{\"fillpattern\":{\"fillmode\":\"overlay\",\"size\":10,\"solidity\":0.2},\"type\":\"scatter\"}],\"parcoords\":[{\"type\":\"parcoords\",\"line\":{\"colorbar\":{\"outlinewidth\":0,\"ticks\":\"\"}}}],\"scatterpolargl\":[{\"type\":\"scatterpolargl\",\"marker\":{\"colorbar\":{\"outlinewidth\":0,\"ticks\":\"\"}}}],\"bar\":[{\"error_x\":{\"color\":\"#2a3f5f\"},\"error_y\":{\"color\":\"#2a3f5f\"},\"marker\":{\"line\":{\"color\":\"#E5ECF6\",\"width\":0.5},\"pattern\":{\"fillmode\":\"overlay\",\"size\":10,\"solidity\":0.2}},\"type\":\"bar\"}],\"scattergeo\":[{\"type\":\"scattergeo\",\"marker\":{\"colorbar\":{\"outlinewidth\":0,\"ticks\":\"\"}}}],\"scatterpolar\":[{\"type\":\"scatterpolar\",\"marker\":{\"colorbar\":{\"outlinewidth\":0,\"ticks\":\"\"}}}],\"histogram\":[{\"marker\":{\"pattern\":{\"fillmode\":\"overlay\",\"size\":10,\"solidity\":0.2}},\"type\":\"histogram\"}],\"scattergl\":[{\"type\":\"scattergl\",\"marker\":{\"colorbar\":{\"outlinewidth\":0,\"ticks\":\"\"}}}],\"scatter3d\":[{\"type\":\"scatter3d\",\"line\":{\"colorbar\":{\"outlinewidth\":0,\"ticks\":\"\"}},\"marker\":{\"colorbar\":{\"outlinewidth\":0,\"ticks\":\"\"}}}],\"scattermapbox\":[{\"type\":\"scattermapbox\",\"marker\":{\"colorbar\":{\"outlinewidth\":0,\"ticks\":\"\"}}}],\"scatterternary\":[{\"type\":\"scatterternary\",\"marker\":{\"colorbar\":{\"outlinewidth\":0,\"ticks\":\"\"}}}],\"scattercarpet\":[{\"type\":\"scattercarpet\",\"marker\":{\"colorbar\":{\"outlinewidth\":0,\"ticks\":\"\"}}}],\"carpet\":[{\"aaxis\":{\"endlinecolor\":\"#2a3f5f\",\"gridcolor\":\"white\",\"linecolor\":\"white\",\"minorgridcolor\":\"white\",\"startlinecolor\":\"#2a3f5f\"},\"baxis\":{\"endlinecolor\":\"#2a3f5f\",\"gridcolor\":\"white\",\"linecolor\":\"white\",\"minorgridcolor\":\"white\",\"startlinecolor\":\"#2a3f5f\"},\"type\":\"carpet\"}],\"table\":[{\"cells\":{\"fill\":{\"color\":\"#EBF0F8\"},\"line\":{\"color\":\"white\"}},\"header\":{\"fill\":{\"color\":\"#C8D4E3\"},\"line\":{\"color\":\"white\"}},\"type\":\"table\"}],\"barpolar\":[{\"marker\":{\"line\":{\"color\":\"#E5ECF6\",\"width\":0.5},\"pattern\":{\"fillmode\":\"overlay\",\"size\":10,\"solidity\":0.2}},\"type\":\"barpolar\"}],\"pie\":[{\"automargin\":true,\"type\":\"pie\"}]},\"layout\":{\"autotypenumbers\":\"strict\",\"colorway\":[\"#636efa\",\"#EF553B\",\"#00cc96\",\"#ab63fa\",\"#FFA15A\",\"#19d3f3\",\"#FF6692\",\"#B6E880\",\"#FF97FF\",\"#FECB52\"],\"font\":{\"color\":\"#2a3f5f\"},\"hovermode\":\"closest\",\"hoverlabel\":{\"align\":\"left\"},\"paper_bgcolor\":\"white\",\"plot_bgcolor\":\"#E5ECF6\",\"polar\":{\"bgcolor\":\"#E5ECF6\",\"angularaxis\":{\"gridcolor\":\"white\",\"linecolor\":\"white\",\"ticks\":\"\"},\"radialaxis\":{\"gridcolor\":\"white\",\"linecolor\":\"white\",\"ticks\":\"\"}},\"ternary\":{\"bgcolor\":\"#E5ECF6\",\"aaxis\":{\"gridcolor\":\"white\",\"linecolor\":\"white\",\"ticks\":\"\"},\"baxis\":{\"gridcolor\":\"white\",\"linecolor\":\"white\",\"ticks\":\"\"},\"caxis\":{\"gridcolor\":\"white\",\"linecolor\":\"white\",\"ticks\":\"\"}},\"coloraxis\":{\"colorbar\":{\"outlinewidth\":0,\"ticks\":\"\"}},\"colorscale\":{\"sequential\":[[0.0,\"#0d0887\"],[0.1111111111111111,\"#46039f\"],[0.2222222222222222,\"#7201a8\"],[0.3333333333333333,\"#9c179e\"],[0.4444444444444444,\"#bd3786\"],[0.5555555555555556,\"#d8576b\"],[0.6666666666666666,\"#ed7953\"],[0.7777777777777778,\"#fb9f3a\"],[0.8888888888888888,\"#fdca26\"],[1.0,\"#f0f921\"]],\"sequentialminus\":[[0.0,\"#0d0887\"],[0.1111111111111111,\"#46039f\"],[0.2222222222222222,\"#7201a8\"],[0.3333333333333333,\"#9c179e\"],[0.4444444444444444,\"#bd3786\"],[0.5555555555555556,\"#d8576b\"],[0.6666666666666666,\"#ed7953\"],[0.7777777777777778,\"#fb9f3a\"],[0.8888888888888888,\"#fdca26\"],[1.0,\"#f0f921\"]],\"diverging\":[[0,\"#8e0152\"],[0.1,\"#c51b7d\"],[0.2,\"#de77ae\"],[0.3,\"#f1b6da\"],[0.4,\"#fde0ef\"],[0.5,\"#f7f7f7\"],[0.6,\"#e6f5d0\"],[0.7,\"#b8e186\"],[0.8,\"#7fbc41\"],[0.9,\"#4d9221\"],[1,\"#276419\"]]},\"xaxis\":{\"gridcolor\":\"white\",\"linecolor\":\"white\",\"ticks\":\"\",\"title\":{\"standoff\":15},\"zerolinecolor\":\"white\",\"automargin\":true,\"zerolinewidth\":2},\"yaxis\":{\"gridcolor\":\"white\",\"linecolor\":\"white\",\"ticks\":\"\",\"title\":{\"standoff\":15},\"zerolinecolor\":\"white\",\"automargin\":true,\"zerolinewidth\":2},\"scene\":{\"xaxis\":{\"backgroundcolor\":\"#E5ECF6\",\"gridcolor\":\"white\",\"linecolor\":\"white\",\"showbackground\":true,\"ticks\":\"\",\"zerolinecolor\":\"white\",\"gridwidth\":2},\"yaxis\":{\"backgroundcolor\":\"#E5ECF6\",\"gridcolor\":\"white\",\"linecolor\":\"white\",\"showbackground\":true,\"ticks\":\"\",\"zerolinecolor\":\"white\",\"gridwidth\":2},\"zaxis\":{\"backgroundcolor\":\"#E5ECF6\",\"gridcolor\":\"white\",\"linecolor\":\"white\",\"showbackground\":true,\"ticks\":\"\",\"zerolinecolor\":\"white\",\"gridwidth\":2}},\"shapedefaults\":{\"line\":{\"color\":\"#2a3f5f\"}},\"annotationdefaults\":{\"arrowcolor\":\"#2a3f5f\",\"arrowhead\":0,\"arrowwidth\":1},\"geo\":{\"bgcolor\":\"white\",\"landcolor\":\"#E5ECF6\",\"subunitcolor\":\"white\",\"showland\":true,\"showlakes\":true,\"lakecolor\":\"white\"},\"title\":{\"x\":0.05},\"mapbox\":{\"style\":\"light\"}}},\"xaxis\":{\"anchor\":\"y\",\"domain\":[0.0,1.0],\"title\":{\"text\":\"average_rating\"}},\"yaxis\":{\"anchor\":\"x\",\"domain\":[0.0,1.0],\"title\":{\"text\":\"average_sentiment\"}},\"legend\":{\"title\":{\"text\":\"simplified_category\"},\"tracegroupgap\":0},\"title\":{\"text\":\"Interactive Plot: Relationship Between Average Rating and Average Sentiment in Each Category\"}},                        {\"responsive\": true}                    ).then(function(){\n",
       "                            \n",
       "var gd = document.getElementById('3e1679a0-cc99-4b7d-b05b-58f68fa40786');\n",
       "var x = new MutationObserver(function (mutations, observer) {{\n",
       "        var display = window.getComputedStyle(gd).display;\n",
       "        if (!display || display === 'none') {{\n",
       "            console.log([gd, 'removed!']);\n",
       "            Plotly.purge(gd);\n",
       "            observer.disconnect();\n",
       "        }}\n",
       "}});\n",
       "\n",
       "// Listen for the removal of the full notebook cells\n",
       "var notebookContainer = gd.closest('#notebook-container');\n",
       "if (notebookContainer) {{\n",
       "    x.observe(notebookContainer, {childList: true});\n",
       "}}\n",
       "\n",
       "// Listen for the clearing of the current output cell\n",
       "var outputEl = gd.closest('.output');\n",
       "if (outputEl) {{\n",
       "    x.observe(outputEl, {childList: true});\n",
       "}}\n",
       "\n",
       "                        })                };                });            </script>        </div>"
      ]
     },
     "metadata": {},
     "output_type": "display_data"
    }
   ],
   "source": [
    "category_averages = merged_df.groupby('simplified_category').agg(\n",
    "    average_rating=pd.NamedAgg(column='rating', aggfunc='mean'),\n",
    "    average_sentiment=pd.NamedAgg(column='sentiment', aggfunc='mean')\n",
    ").reset_index()\n",
    "\n",
    "# Assessing the correlation\n",
    "correlation, p_value = pearsonr(category_averages['average_rating'], category_averages['average_sentiment'])\n",
    "print(f\"Correlation coefficient: {correlation}, P-value: {p_value}\")\n",
    "\n",
    "# Creating interactive Plotly scatter plot\n",
    "fig = px.scatter(category_analysis, x='average_rating', y='average_sentiment', \n",
    "                 hover_data=['simplified_category'], color='simplified_category',\n",
    "                 title='Interactive Plot: Relationship Between Average Rating and Average Sentiment in Each Category')\n",
    "fig.show()"
   ]
  },
  {
   "cell_type": "markdown",
   "id": "17fe2ad3",
   "metadata": {},
   "source": [
    "P-value is significantly less than the common alpha level of 0.05, which indicates that the observed correlation is statistically significant. This means there's a very low probability that the strong relationship between average ratings and sentiment scores across categories occurred by chance."
   ]
  },
  {
   "cell_type": "code",
   "execution_count": 247,
   "id": "aac7ee42",
   "metadata": {},
   "outputs": [
    {
     "data": {
      "image/png": "[encoded data removed]",
      "text/plain": [
       "<Figure size 1200x800 with 1 Axes>"
      ]
     },
     "metadata": {},
     "output_type": "display_data"
    },
    {
     "name": "stdout",
     "output_type": "stream",
     "text": [
      "      simplified_category  sentiment\n",
      "10                  music   0.329541\n",
      "1                business   0.325495\n",
      "8                    kids   0.310938\n",
      "0                    arts   0.309957\n",
      "3               education   0.309550\n",
      "9                 leisure   0.304244\n",
      "6                  health   0.303521\n",
      "15                 sports   0.298991\n",
      "12  religion_spirituality   0.298832\n",
      "18                     tv   0.288928\n",
      "16             technology   0.280598\n",
      "4                 fiction   0.279040\n",
      "13                science   0.263905\n",
      "2                  comedy   0.263096\n",
      "14                society   0.260788\n",
      "7                 history   0.256312\n",
      "5              government   0.235882\n",
      "11                   news   0.221116\n",
      "17                   true   0.208181\n"
     ]
    }
   ],
   "source": [
    "# Grouping by simplified_category and calculating average sentiment\n",
    "category_sentiment = merged_df.groupby('simplified_category')['sentiment'].mean().reset_index()\n",
    "\n",
    "# Sorting to get top 10 categories with highest sentiment scores\n",
    "top_categories_sentiment = category_sentiment.sort_values(by='sentiment', ascending=False).head(50)\n",
    "\n",
    "# Visualization\n",
    "plt.figure(figsize=(12, 8))\n",
    "sns.barplot(x='sentiment', y='simplified_category', data=top_categories_sentiment, palette='viridis')\n",
    "plt.title('Top 10 Podcast Categories by Highest Sentiment Score')\n",
    "plt.xlabel('Average Sentiment Score')\n",
    "plt.ylabel('Simplified Category')\n",
    "plt.show()\n",
    "\n",
    "print(top_categories_sentiment)"
   ]
  },
  {
   "cell_type": "markdown",
   "id": "bb912b1d",
   "metadata": {},
   "source": [
    "### Outliers"
   ]
  },
  {
   "cell_type": "code",
   "execution_count": 249,
   "id": "b65fc874",
   "metadata": {},
   "outputs": [
    {
     "name": "stdout",
     "output_type": "stream",
     "text": [
      "Detected 8501 outliers using Z-score method.\n",
      "count    8501.000000\n",
      "mean       -0.694195\n",
      "std         0.180389\n",
      "min        -1.000000\n",
      "25%        -0.800000\n",
      "50%        -0.650000\n",
      "75%        -0.500000\n",
      "max        -0.497917\n",
      "Name: sentiment, dtype: float64\n"
     ]
    }
   ],
   "source": [
    "sentiment_z_scores = np.abs(stats.zscore(merged_df['sentiment']))\n",
    "outliers = merged_df[sentiment_z_scores > 3]\n",
    "\n",
    "print(f\"Detected {len(outliers)} outliers using Z-score method.\")\n",
    "print(outliers['sentiment'].describe())"
   ]
  },
  {
   "cell_type": "markdown",
   "id": "b201157a",
   "metadata": {},
   "source": [
    "The sentiment scores of outliers range from -1 to approximately -0.498, with a mean sentiment score of approximately -0.694. This indicates a skew towards negative sentiment among the outliers. The fact that these outliers have such consistently low sentiment scores suggests that they are reviews expressing significant dissatisfaction or negative experiences."
   ]
  },
  {
   "cell_type": "code",
   "execution_count": 252,
   "id": "9e3d3371",
   "metadata": {},
   "outputs": [
    {
     "data": {
      "image/png": "[encoded data removed]",
      "text/plain": [
       "<Figure size 640x480 with 1 Axes>"
      ]
     },
     "metadata": {},
     "output_type": "display_data"
    },
    {
     "data": {
      "image/png": "[encoded data removed]",
      "text/plain": [
       "<Figure size 640x480 with 1 Axes>"
      ]
     },
     "metadata": {},
     "output_type": "display_data"
    }
   ],
   "source": [
    "# Box plot for overall data\n",
    "sns.boxplot(x=merged_df['sentiment'])\n",
    "plt.title('Overall Sentiment Score Distribution')\n",
    "plt.show()\n",
    "\n",
    "# Box plot for outliers\n",
    "sns.boxplot(x=outliers['sentiment'])\n",
    "plt.title('Outlier Sentiment Score Distribution')\n",
    "plt.show()"
   ]
  },
  {
   "cell_type": "markdown",
   "id": "564c2078",
   "metadata": {},
   "source": [
    "### Sample Review Analysis"
   ]
  },
  {
   "cell_type": "code",
   "execution_count": 220,
   "id": "6dbd2558",
   "metadata": {},
   "outputs": [
    {
     "name": "stdout",
     "output_type": "stream",
     "text": [
      "This is a hate podcast they are mad they are the one of the lowest viewed in wrestling podcast snowflake \n",
      "\n",
      "This pod makes me want to up my swearing game, scream into a pillow, take anger management classes, learn to meditate, or go hit someone. Maybe all?  #FlorMingos \n",
      "\n",
      "Lovett,  that interview was terrible. \n",
      "\n",
      "these stories are absolutely terrifying! they make my heart race, and i almost can’t finish them! not to mention the speaker narrates them so well! \n",
      "\n",
      "Premium version does not work.  Difficult to use (download, keep track of lessons). \n",
      "\n"
     ]
    }
   ],
   "source": [
    "for review in outliers['content'].sample(5):\n",
    "    print(review, \"\\n\")"
   ]
  },
  {
   "cell_type": "markdown",
   "id": "a5b33477",
   "metadata": {},
   "source": [
    "The sample reviews vary widely, from extremely negative feedback and expressions of strong emotional reactions to specific criticisms about podcast content or technical issues. This variety suggests that while these are outliers in terms of sentiment score, they represent genuine listener reactions rather than data errors or anomalies that could be disregarded without further consideration."
   ]
  },
  {
   "cell_type": "markdown",
   "id": "dc003ca2",
   "metadata": {},
   "source": [
    " <a id=\"8\"></a> \n",
    "## 4.3 Statistical inference"
   ]
  },
  {
   "cell_type": "markdown",
   "id": "10866ad0",
   "metadata": {},
   "source": [
    "### t-test"
   ]
  },
  {
   "cell_type": "markdown",
   "id": "5188cb07",
   "metadata": {},
   "source": [
    "### Defining the Target Population:\n",
    "\n",
    "* Objective: To understand the sentiment towards business and comedy podcasts.\n",
    "\n",
    "* Target Population: All podcast listeners of business and comedy genres from this data set. \n",
    "\n",
    "### Hypotheses:\n",
    "\n",
    "* H0: There is no difference in average sentiment scores between business and comedy podcasts.\n",
    "* H1: There is a significant difference in average sentiment scores between business and comedy podcasts.\n",
    "\n",
    "### Significance Level:\n",
    "\n",
    "*  0.05, indicating a 5% risk of concluding that a difference exists when there is no actual difference."
   ]
  },
  {
   "cell_type": "code",
   "execution_count": 253,
   "id": "fce81bfb",
   "metadata": {},
   "outputs": [
    {
     "name": "stdout",
     "output_type": "stream",
     "text": [
      "T-Statistic: 66.47535347460264\n",
      "P-Value: 0.0\n",
      "Reject the null hypothesis: There is a significant difference in average listener sentiment between 'business' and 'comedy' podcast genres.\n"
     ]
    }
   ],
   "source": [
    "# Filter the DataFrame for \"business\" and \"comedy\" genres\n",
    "business_sentiment = merged_df[merged_df['simplified_category'] == 'business']['sentiment']\n",
    "comedy_sentiment = merged_df[merged_df['simplified_category'] == 'comedy']['sentiment']\n",
    "\n",
    "# Perform t-test\n",
    "t_stat, p_value = stats.ttest_ind(business_sentiment, comedy_sentiment)\n",
    "\n",
    "# Print the results\n",
    "print(\"T-Statistic:\", t_stat)\n",
    "print(\"P-Value:\", p_value)\n",
    "\n",
    "# Interpretation\n",
    "if p_value < 0.05:\n",
    "    print(\"Reject the null hypothesis: There is a significant difference in average listener sentiment between 'business' and 'comedy' podcast genres.\")\n",
    "else:\n",
    "    print(\"Fail to reject the null hypothesis: There is no significant difference in average listener sentiment between 'business' and 'comedy' podcast genres.\")\n"
   ]
  },
  {
   "cell_type": "markdown",
   "id": "2662763f",
   "metadata": {},
   "source": [
    "* T-Statistic of 66.475 suggests a substantial difference in the mean sentiment scores of business and comedy podcasts. This is a strong indicator that the observed difference is not due to random chance.\n",
    "\n",
    "* P-Value: 0.0 indicates that the likelihood of the observed difference (or more extreme) occurring by random chance is virtually nonexistent. "
   ]
  },
  {
   "cell_type": "code",
   "execution_count": 254,
   "id": "fceba84d",
   "metadata": {},
   "outputs": [
    {
     "data": {
      "image/png": "[encoded data removed]",
      "text/plain": [
       "<Figure size 1000x600 with 1 Axes>"
      ]
     },
     "metadata": {},
     "output_type": "display_data"
    }
   ],
   "source": [
    "# Filter the DataFrame for \"business\" and \"comedy\" genres only\n",
    "filtered_df = merged_df[merged_df['simplified_category'].isin(['business', 'comedy'])]\n",
    "\n",
    "# Create a box plot\n",
    "plt.figure(figsize=(10, 6))\n",
    "sns.boxplot(x='simplified_category', y='sentiment', data=filtered_df)\n",
    "plt.title('Sentiment Scores for Business and Comedy Podcasts')\n",
    "plt.xlabel('Podcast Genre')\n",
    "plt.ylabel('Sentiment Score')\n",
    "plt.show()"
   ]
  },
  {
   "cell_type": "code",
   "execution_count": 255,
   "id": "c9458d7a",
   "metadata": {},
   "outputs": [
    {
     "name": "stdout",
     "output_type": "stream",
     "text": [
      "Mean difference: 0.06239929204109995\n",
      "95% confidence interval for the mean difference: (0.06061388292139692, 0.06418470116080299)\n"
     ]
    }
   ],
   "source": [
    "# Perform the t-test\n",
    "t_stat, p_value = stats.ttest_ind(business_sentiment, comedy_sentiment, equal_var=False)\n",
    "mean_diff = np.mean(business_sentiment) - np.mean(comedy_sentiment)\n",
    "\n",
    "# Calculate the degrees of freedom for Welch's t-test (unequal variances)\n",
    "df = len(business_sentiment) + len(comedy_sentiment) - 2\n",
    "\n",
    "# Calculate the standard error of the difference in means\n",
    "std_err_diff = np.sqrt(np.var(business_sentiment, ddof=1)/len(business_sentiment) + np.var(comedy_sentiment, ddof=1)/len(comedy_sentiment))\n",
    "\n",
    "# Determine the critical value for a 95% confidence interval\n",
    "critical_value = stats.t.ppf(0.975, df)  # 0.975 because 2-tailed, and we want the 95% CI\n",
    "\n",
    "# Calculate the margin of error\n",
    "margin_of_error = critical_value * std_err_diff\n",
    "\n",
    "# Calculate the confidence interval\n",
    "conf_interval = (mean_diff - margin_of_error, mean_diff + margin_of_error)\n",
    "\n",
    "print(f\"Mean difference: {mean_diff}\")\n",
    "print(f\"95% confidence interval for the mean difference: {conf_interval}\")\n"
   ]
  },
  {
   "cell_type": "markdown",
   "id": "7f42c8ab",
   "metadata": {},
   "source": [
    "* with 95% confidence, the true difference in mean sentiment scores between business and comedy podcasts lies within this range. The interval is quite narrow, which suggests a high level of precision in your estimate of the mean difference.\n",
    "* The confidence interval does not contain 0, which strongly supports the conclusion that there is a significant difference between the two genres in terms of sentiment scores.\n",
    "* Given that the entire interval is above 0, you have evidence to suggest that business podcasts are viewed more positively than comedy podcasts, according to the sentiment analysis of reviews in your dataset."
   ]
  },
  {
   "cell_type": "code",
   "execution_count": null,
   "id": "ef9375a1",
   "metadata": {},
   "outputs": [],
   "source": [
    "### Defining the Target Population:\n",
    "\n",
    "* Objective: To understand the sentiment towards technology podcast comparing to overall average sentiment.\n",
    "\n",
    "* Target Population: All podcast listeners from this data set. \n",
    "\n",
    "### Hypotheses:\n",
    "\n",
    "* H0: There is no difference in average sentiment and technology podcasts.\n",
    "* H1: There is a significant difference in average sentiment and technology podcasts.\n",
    "\n",
    "### Significance Level:\n",
    "\n",
    "*  0.05, indicating a 5% risk of concluding that a difference exists when there is no actual difference."
   ]
  },
  {
   "cell_type": "code",
   "execution_count": 256,
   "id": "9e8b3a6b",
   "metadata": {},
   "outputs": [
    {
     "name": "stdout",
     "output_type": "stream",
     "text": [
      "t-statistic: -1.237460146594469, p-value: 0.21595283468791238\n",
      "Fail to reject the null hypothesis: No significant difference in sentiment scores.\n"
     ]
    }
   ],
   "source": [
    "tech_sentiments = merged_df[merged_df['simplified_category'] == 'technology']['sentiment']\n",
    "overall_mean_sentiment = merged_df['sentiment'].mean()\n",
    "t_stat, p_value = stats.ttest_1samp(tech_sentiments, overall_mean_sentiment)\n",
    "print(f\"t-statistic: {t_stat}, p-value: {p_value}\")\n",
    "\n",
    "# Interpretation\n",
    "alpha = 0.05  # Significance level\n",
    "if p_value < alpha:\n",
    "    print(\"Reject the null hypothesis: Significant difference in sentiment scores.\")\n",
    "else:\n",
    "    print(\"Fail to reject the null hypothesis: No significant difference in sentiment scores.\")"
   ]
  },
  {
   "cell_type": "markdown",
   "id": "b647f856",
   "metadata": {},
   "source": [
    "* T-Statistic: The negative t-statistic indicates that the mean sentiment score for technology podcasts is lower than the overall mean sentiment score across all podcasts. However, the magnitude of this statistic is relatively small, suggesting that the difference might not be very large.\n",
    "\n",
    "* P-Value: With a p-value of approximately 0.216, which is greater than the chosen significance level (0.05), there is not enough evidence to reject the null hypothesis. This suggests that the average sentiment score for technology podcasts is not significantly different from the overall average sentiment score across all podcast categories."
   ]
  },
  {
   "cell_type": "markdown",
   "id": "eb85e025",
   "metadata": {},
   "source": [
    "<a id=\"12\"></a> \n",
    "# 5. Summary and Suggestions"
   ]
  },
  {
   "cell_type": "markdown",
   "id": "829a8e11",
   "metadata": {},
   "source": [
    "**Summary:**\n",
    "\n",
    "This project aimed to explore Podcast Reviews Dataset to understand listener sentiment and preferences across different podcast genres. Key findings:\n",
    "\n",
    "1. **General Sentiment and Ratings:**\n",
    "   - The analysis revealed that podcast reviews are generally positive, with an average sentiment score of 0.284 and an average rating of 4.56. This indicates that listeners tend to enjoy the content they choose to review, with a skew towards higher ratings.\n",
    "   - Business and religion/spirituality emerged as the highest-rated categories, suggesting a strong listener interest in these genres.\n",
    "   - Business podcasts showing particularly high sentiment scores, implying that content in these categories resonates well with their audiences.\n",
    "   <br><br>\n",
    "2. **Strong Correlation Between Ratings and Sentiment:**\n",
    "   - A significant positive correlation (r = 0.938) between average ratings and sentiment scores across different podcast categories suggests that higher-rated podcasts are also spoken of more positively in reviews.\n",
    "<br><br>\n",
    "3. **Sentiment towards business and comedy podcasts:**\n",
    "   - A t-test comparing sentiment scores between business and comedy podcasts revealed a significant difference, indicating that business podcasts are received more positively than comedy podcasts. The t-statistic was notably high, and the p-value was extremely low (practically zero), strongly suggesting that this finding is not due to chance.\n",
    "<br><br>\n",
    "5. **Technology Podcasts Analysis:**\n",
    "   - A specific analysis of technology podcasts showed no significant difference in sentiment scores compared to the overall average sentiment. This suggests that technology podcasts, as a category, align well with general listener satisfaction levels.\n",
    "<br><br>\n",
    "6. **Outlier Analysis:**\n",
    "   - The identification of 8,501 outliers based on sentiment scores highlighted a subset of reviews with significantly negative sentiment. Analysis of these outliers provided insights into potential areas for improvement, ranging from content-related issues to technical problems with podcast access.\n",
    " \n",
    "<br><br>\n",
    "**Suggestions:**\n",
    "\n",
    "1. **Text Analysis:**\n",
    "   - Perform text analysis on the review content to identify common themes or topics that drive positive or negative sentiment. This could help podcast creators tailor their content more effectively to audience preferences.\n",
    "<br><br>\n",
    "2. **Cross-Genre Comparison:**\n",
    "   - Expand the comparative analysis to include more genres. Are there specific elements of content presentation or topic selection that consistently lead to higher sentiment scores across different genres\n",
    "<br><br>\n",
    "3. **Trends:**\n",
    "   - Examine how sentiment scores and ratings evolve over time. Are there any trends or patterns that correlate with external events or podcast release schedules.\n"
   ]
  },
  {
   "cell_type": "code",
   "execution_count": null,
   "id": "955ba54a",
   "metadata": {},
   "outputs": [],
   "source": []
  }
 ],
 "metadata": {
  "kernelspec": {
   "display_name": "Python 3 (ipykernel)",
   "language": "python",
   "name": "python3"
  },
  "language_info": {
   "codemirror_mode": {
    "name": "ipython",
    "version": 3
   },
   "file_extension": ".py",
   "mimetype": "text/x-python",
   "name": "python",
   "nbconvert_exporter": "python",
   "pygments_lexer": "ipython3",
   "version": "3.11.4"
  }
 },
 "nbformat": 4,
 "nbformat_minor": 5
}
